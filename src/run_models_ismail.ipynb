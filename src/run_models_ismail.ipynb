{
 "cells": [
  {
   "cell_type": "code",
   "execution_count": 1,
   "metadata": {},
   "outputs": [
    {
     "name": "stderr",
     "output_type": "stream",
     "text": [
      "2023-02-09 20:11:05.374977: I tensorflow/core/platform/cpu_feature_guard.cc:193] This TensorFlow binary is optimized with oneAPI Deep Neural Network Library (oneDNN) to use the following CPU instructions in performance-critical operations:  AVX2 AVX512F AVX512_VNNI FMA\n",
      "To enable them in other operations, rebuild TensorFlow with the appropriate compiler flags.\n",
      "2023-02-09 20:11:05.693321: I tensorflow/core/util/port.cc:104] oneDNN custom operations are on. You may see slightly different numerical results due to floating-point round-off errors from different computation orders. To turn them off, set the environment variable `TF_ENABLE_ONEDNN_OPTS=0`.\n",
      "2023-02-09 20:11:05.739718: W tensorflow/compiler/xla/stream_executor/platform/default/dso_loader.cc:64] Could not load dynamic library 'libcudart.so.11.0'; dlerror: libcudart.so.11.0: cannot open shared object file: No such file or directory; LD_LIBRARY_PATH: /app/lib\n",
      "2023-02-09 20:11:05.739743: I tensorflow/compiler/xla/stream_executor/cuda/cudart_stub.cc:29] Ignore above cudart dlerror if you do not have a GPU set up on your machine.\n",
      "2023-02-09 20:11:06.846443: W tensorflow/compiler/xla/stream_executor/platform/default/dso_loader.cc:64] Could not load dynamic library 'libnvinfer.so.7'; dlerror: libnvinfer.so.7: cannot open shared object file: No such file or directory; LD_LIBRARY_PATH: /app/lib\n",
      "2023-02-09 20:11:06.846535: W tensorflow/compiler/xla/stream_executor/platform/default/dso_loader.cc:64] Could not load dynamic library 'libnvinfer_plugin.so.7'; dlerror: libnvinfer_plugin.so.7: cannot open shared object file: No such file or directory; LD_LIBRARY_PATH: /app/lib\n",
      "2023-02-09 20:11:06.846541: W tensorflow/compiler/tf2tensorrt/utils/py_utils.cc:38] TF-TRT Warning: Cannot dlopen some TensorRT libraries. If you would like to use Nvidia GPU with TensorRT, please make sure the missing libraries mentioned above are installed properly.\n"
     ]
    }
   ],
   "source": [
    "import numpy as np # linear algebra\n",
    "import pandas as pd # data processing, CSV file I/O (e.g. pd.read_csv)\n",
    "import tensorflow as tf\n",
    "from keras.metrics import mean_absolute_error\n",
    "import datetime, os\n",
    "import math\n",
    "import matplotlib.pyplot as plt\n",
    "import seaborn as sns\n",
    "from sklearn.model_selection import train_test_split\n",
    "import matplotlib.image as mpimg\n",
    "\n",
    "import wandb\n",
    "from wandb.keras import WandbCallback\n",
    "\n",
    "#library required for image preprocessing\n",
    "from tensorflow.keras.preprocessing.image import ImageDataGenerator\n",
    "from tensorflow.keras.callbacks import EarlyStopping, ModelCheckpoint, ReduceLROnPlateau\n",
    "\n",
    "from utils import create_dataset_from_file\n",
    "from models import SmallCNN, Inception\n",
    "# !wandb login  # Login command for Weights and Biases library\n",
    "\n",
    "# To disable the GPU\n",
    "os.environ[\"CUDA_VISIBLE_DEVICES\"] = \"\""
   ]
  },
  {
   "cell_type": "markdown",
   "metadata": {},
   "source": [
    "## HyperParameters"
   ]
  },
  {
   "cell_type": "code",
   "execution_count": 2,
   "metadata": {},
   "outputs": [],
   "source": [
    "img_size = 256"
   ]
  },
  {
   "cell_type": "markdown",
   "metadata": {},
   "source": [
    "## Load and Preprocess Input Dataset"
   ]
  },
  {
   "cell_type": "code",
   "execution_count": 98,
   "metadata": {},
   "outputs": [],
   "source": [
    "# machine = \"remote_system\"\n",
    "machine = \"local\"\n",
    "# loading Data\n",
    "    \n",
    "### Set here the localtion of the data folder of your google drive\n",
    "if machine == \"remote_system\":\n",
    "    train_dir = \"/server0/0/2022/mtirmizi/Documents/bone_data/Bone Age Training Set/\"\n",
    "    validation_dir = \"/server0/0/2022/mtirmizi/Documents/bone_data/Bone Age Validation Set/\"\n",
    "    test_dir = \"/server0/0/2022/mtirmizi/Documents/bone_data/Bone Age Test Set/\"\n",
    "else:\n",
    "    train_dir = \"/home/teemo/Documents/bone_data/Bone Age Training Set/\"\n",
    "    validation_dir = \"/home/teemo/Documents/bone_data/Bone Age Validation Set/\"\n",
    "    test_dir = \"/home/teemo/Documents/bone_data/Bone Age Test Set/\"\n",
    "\n",
    "\n",
    "### Train Data\n",
    "train_image_dir = os.path.join( train_dir, \"boneage-training-dataset\")\n",
    "train_df = pd.read_csv( os.path.join(train_dir,\"train.csv\") )\n",
    "\n",
    "### Validation Data\n",
    "validation_image_dir = os.path.join( validation_dir, \"boneage-validation-dataset\")\n",
    "valid_df = pd.read_csv( os.path.join(validation_dir,\"Validation Dataset.csv\") )\n",
    "\n",
    "### Test Data\n",
    "test_image_dir = os.path.join(test_dir, \"boneage-testing-dataset\")\n",
    "test_df = pd.read_excel(  os.path.join(test_dir, \"test.xlsx\"))\n",
    "\n",
    "# Preprocess Train Dataset\n",
    "train_df[\"male\"] = train_df[\"male\"].astype(int)\n",
    "\n",
    "# Preprocess Validation Dataset\n",
    "valid_df = valid_df.rename(columns={'Bone Age (months)': 'boneage', 'Image ID': 'id'})\n",
    "valid_df[\"male\"] = valid_df[\"male\"].astype(int)\n",
    "\n",
    "# Preprocess Test Dataset\n",
    "test_df = test_df.rename(columns={'Ground truth bone age (months)': 'boneage', 'Case ID': 'id'})\n",
    "test_df[\"male\"] = test_df['Sex'].replace(['M', 'F'], [1, 0])\n",
    "test_df = test_df.drop(columns=[\"Sex\"])\n",
    "\n",
    "\n",
    "# Appending file extension to id column for both training and testing dataframes\n",
    "train_df['id'] = train_df['id'].apply(lambda x: str(x) + '.png')\n",
    "valid_df['id'] = valid_df['id'].apply(lambda x: str(x) + '.png')\n",
    "test_df['id'] = test_df['id'].apply(lambda x: str(x) + '.png') \n",
    "\n",
    "# Create Image paths. Will be needed in tensorflow Dataset API\n",
    "train_df['img_path'] = train_df['id'].apply(lambda x: os.path.join(train_image_dir, str(x)) )\n",
    "valid_df['img_path'] = valid_df['id'].apply(lambda x: os.path.join(validation_image_dir, str(x)) )\n",
    "test_df['img_path'] = test_df['id'].apply(lambda x: os.path.join(test_image_dir, str(x)) )\n",
    "\n",
    "#mean age is\n",
    "mean_bone_age = train_df['boneage'].mean()\n",
    "\n",
    "#standard deviation of boneage\n",
    "std_bone_age = train_df['boneage'].std()\n",
    "\n",
    "#models perform better when features are normalised to have zero mean and unity standard deviation\n",
    "#using z score for the training\n",
    "train_df.loc[:, 'bone_age_z'] = (train_df['boneage'] - mean_bone_age) / std_bone_age\n",
    "\n",
    "# Similarly z score for Validation & testing data\n",
    "valid_df.loc[:, \"bone_age_z\"] = (valid_df[\"boneage\"] - mean_bone_age) / std_bone_age\n",
    "test_df.loc[:, 'bone_age_z'] = (test_df['boneage'] - mean_bone_age) / std_bone_age\n",
    "\n",
    "# train_df = train_df[:64]\n",
    "# valid_df = valid_df[:64]\n",
    "\n",
    "# train_dataset = create_dataset_from_file(train_df[\"img_path\"], train_df[\"male\"].to_numpy().reshape(-1, 1), train_df[\"bone_age_z\"], use_gender=False, batch_size=32)\n",
    "# valid_dataset = create_dataset_from_file(valid_df[\"img_path\"], valid_df[\"male\"].to_numpy().reshape(-1, 1), valid_df[\"bone_age_z\"], use_gender=False, batch_size=32)\n",
    "# test_dataset = create_dataset_from_file(test_df[\"img_path\"], test_df[\"male\"].to_numpy().reshape(-1, 1), test_df[\"bone_age_z\"], use_gender=False, batch_size=32)\n",
    "\n",
    "# train_dataset_wg = create_dataset_from_file(train_df[\"img_path\"], train_df[\"male\"].to_numpy().reshape(-1, 1), train_df[\"bone_age_z\"], use_gender=True, batch_size=32)\n",
    "# valid_dataset_wg = create_dataset_from_file(valid_df[\"img_path\"], valid_df[\"male\"].to_numpy().reshape(-1, 1), valid_df[\"bone_age_z\"], use_gender=True, batch_size=32)\n",
    "# test_dataset_wg = create_dataset_from_file(test_df[\"img_path\"], test_df[\"male\"].to_numpy().reshape(-1, 1), test_df[\"bone_age_z\"], use_gender=True, batch_size=32)"
   ]
  },
  {
   "cell_type": "markdown",
   "metadata": {},
   "source": [
    "## Model Training"
   ]
  },
  {
   "cell_type": "code",
   "execution_count": 99,
   "metadata": {},
   "outputs": [],
   "source": [
    "# Helper functions\n",
    "\n",
    "def mae_in_months(x_p, y_p):\n",
    "    '''function to return mae in months'''\n",
    "    return mean_absolute_error((std_bone_age*x_p + mean_bone_age), (std_bone_age*y_p + mean_bone_age)) \n",
    "def random_learning_rate(lower_bound=0.01, upper_bound=0.1) -> float:\n",
    "    return np.random.uniform(lower_bound, upper_bound) * np.random.choice([1, 0.1, 0.01 ])\n",
    "\n",
    "def tf_dataset_calculate_mae_in_months(tf_dataset=None):\n",
    "    pred_y = np.array([])\n",
    "    test_y = np.array([])\n",
    "    for xray_batch in tf_dataset:\n",
    "        # In xray_batch is a tuple, 1st element is features, 2nd element is the label or target\n",
    "        yhat = model.predict(xray_batch[0]).flatten()\n",
    "        pred_y = np.append(pred_y, yhat)\n",
    "        y = xray_batch[1].numpy()\n",
    "        test_y = np.append(test_y, y)\n",
    "    mae = mae_in_months(pred_y, test_y)\n",
    "    #     break\n",
    "    # print(f\"pred_y: {len(pred_y)}\")\n",
    "    # print(f\"test_y: {len(test_y)}\")\n",
    "    return mae.numpy()\n",
    "\n",
    "## For debugging\n",
    "# Calculate Test Mean Absolute Error (MAE) in months\n",
    "# pred_y = model.predict(test_dataset_wg)\n",
    "# test_y = test_df[\"bone_age_z\"]\n",
    "# test_y = mean_bone_age + std_bone_age * ( df_test[hparams.TARGET_VAR].to_numpy())\n",
    "# pred_y = mean_bone_age + std_bone_age * (model.predict(test_dataset))\n",
    "# mae_value = sklearn.metrics.mean_absolute_error(test_y, pred_y)\n",
    "# test_df[\"bone_age_z\"].shape\n",
    "# mae_in_month = smae_in_months(test_df[\"bone_age_z\"], pred_y.flatten()).numpy()\n",
    "# print(mae_in_months)"
   ]
  },
  {
   "cell_type": "markdown",
   "metadata": {},
   "source": [
    "### Prepare callback functions"
   ]
  },
  {
   "cell_type": "code",
   "execution_count": 100,
   "metadata": {},
   "outputs": [],
   "source": [
    "# reduce lr on plateau\n",
    "red_lr_plat = ReduceLROnPlateau(\n",
    "    monitor=\"val_loss\",\n",
    "    factor=0.1,\n",
    "    patience=10,\n",
    "    verbose=0,\n",
    "    mode=\"min\",\n",
    "    min_delta=0.0001,\n",
    "    cooldown=0,\n",
    "    min_lr=1e-10,\n",
    ")\n",
    "\n",
    "# The Tensorflow checkpoint callback function is used to maintain the best model weights\n",
    "# model checkpoint\n",
    "mc = ModelCheckpoint(\n",
    "    \"data/artifact/\" + \"model\" + \".h5\",\n",
    "    monitor=\"val_loss\",\n",
    "    mode=\"min\",\n",
    "    save_best_only=True,\n",
    ")"
   ]
  },
  {
   "cell_type": "markdown",
   "metadata": {},
   "source": [
    "## Base Convolution Neural Network (BaseCNN)"
   ]
  },
  {
   "cell_type": "code",
   "execution_count": 102,
   "metadata": {},
   "outputs": [
    {
     "data": {
      "text/html": [
       "wandb version 0.13.10 is available!  To upgrade, please run:\n",
       " $ pip install wandb --upgrade"
      ],
      "text/plain": [
       "<IPython.core.display.HTML object>"
      ]
     },
     "metadata": {},
     "output_type": "display_data"
    },
    {
     "data": {
      "text/html": [
       "Tracking run with wandb version 0.13.8"
      ],
      "text/plain": [
       "<IPython.core.display.HTML object>"
      ]
     },
     "metadata": {},
     "output_type": "display_data"
    },
    {
     "data": {
      "text/html": [
       "Run data is saved locally in <code>/home/teemo/MEGA/bdma-semesters/3-semester/Human Data Analysis/project_Radiograph-Age-Prediction/src/wandb/run-20230210_082718-fhiu5dy2</code>"
      ],
      "text/plain": [
       "<IPython.core.display.HTML object>"
      ]
     },
     "metadata": {},
     "output_type": "display_data"
    },
    {
     "data": {
      "text/html": [
       "Syncing run <strong><a href=\"https://wandb.ai/hda-project/hda-final/runs/fhiu5dy2\" target=\"_blank\">CNN-v1-g-True</a></strong> to <a href=\"https://wandb.ai/hda-project/hda-final\" target=\"_blank\">Weights & Biases</a> (<a href=\"https://wandb.me/run\" target=\"_blank\">docs</a>)<br/>"
      ],
      "text/plain": [
       "<IPython.core.display.HTML object>"
      ]
     },
     "metadata": {},
     "output_type": "display_data"
    },
    {
     "data": {
      "text/html": [
       " View project at <a href=\"https://wandb.ai/hda-project/hda-final\" target=\"_blank\">https://wandb.ai/hda-project/hda-final</a>"
      ],
      "text/plain": [
       "<IPython.core.display.HTML object>"
      ]
     },
     "metadata": {},
     "output_type": "display_data"
    },
    {
     "data": {
      "text/html": [
       " View run at <a href=\"https://wandb.ai/hda-project/hda-final/runs/fhiu5dy2\" target=\"_blank\">https://wandb.ai/hda-project/hda-final/runs/fhiu5dy2</a>"
      ],
      "text/plain": [
       "<IPython.core.display.HTML object>"
      ]
     },
     "metadata": {},
     "output_type": "display_data"
    },
    {
     "name": "stdout",
     "output_type": "stream",
     "text": [
      "Epoch 1/50\n",
      " 25/789 [..............................] - ETA: 2:59 - loss: 2.2763 - mae_in_months: 50.1212"
     ]
    },
    {
     "ename": "KeyboardInterrupt",
     "evalue": "",
     "output_type": "error",
     "traceback": [
      "\u001b[0;31m---------------------------------------------------------------------------\u001b[0m",
      "\u001b[0;31mKeyboardInterrupt\u001b[0m                         Traceback (most recent call last)",
      "Cell \u001b[0;32mIn [102], line 55\u001b[0m\n\u001b[1;32m     52\u001b[0m model\u001b[39m.\u001b[39mcompile(loss \u001b[39m=\u001b[39m \u001b[39m'\u001b[39m\u001b[39mmse\u001b[39m\u001b[39m'\u001b[39m, optimizer \u001b[39m=\u001b[39m optimizer, metrics \u001b[39m=\u001b[39m [mae_in_months])\n\u001b[1;32m     54\u001b[0m \u001b[39m# Train the model\u001b[39;00m\n\u001b[0;32m---> 55\u001b[0m model\u001b[39m.\u001b[39;49mfit(train_dataset_wg,  epochs \u001b[39m=\u001b[39;49m epoch, callbacks\u001b[39m=\u001b[39;49mcallbacks, validation_data\u001b[39m=\u001b[39;49mvalid_dataset_wg)\n\u001b[1;32m     57\u001b[0m \u001b[39m# predictions on test dataset\u001b[39;00m\n\u001b[1;32m     58\u001b[0m test_mae \u001b[39m=\u001b[39m tf_dataset_calculate_mae_in_months(test_dataset_wg)\n",
      "File \u001b[0;32m~/anaconda3/envs/ds/lib/python3.10/site-packages/wandb/integration/keras/keras.py:174\u001b[0m, in \u001b[0;36mpatch_tf_keras.<locals>.new_v2\u001b[0;34m(*args, **kwargs)\u001b[0m\n\u001b[1;32m    172\u001b[0m     \u001b[39mfor\u001b[39;00m cbk \u001b[39min\u001b[39;00m cbks:\n\u001b[1;32m    173\u001b[0m         set_wandb_attrs(cbk, val_data)\n\u001b[0;32m--> 174\u001b[0m \u001b[39mreturn\u001b[39;00m old_v2(\u001b[39m*\u001b[39;49margs, \u001b[39m*\u001b[39;49m\u001b[39m*\u001b[39;49mkwargs)\n",
      "File \u001b[0;32m~/anaconda3/envs/ds/lib/python3.10/site-packages/wandb/integration/keras/keras.py:174\u001b[0m, in \u001b[0;36mpatch_tf_keras.<locals>.new_v2\u001b[0;34m(*args, **kwargs)\u001b[0m\n\u001b[1;32m    172\u001b[0m     \u001b[39mfor\u001b[39;00m cbk \u001b[39min\u001b[39;00m cbks:\n\u001b[1;32m    173\u001b[0m         set_wandb_attrs(cbk, val_data)\n\u001b[0;32m--> 174\u001b[0m \u001b[39mreturn\u001b[39;00m old_v2(\u001b[39m*\u001b[39;49margs, \u001b[39m*\u001b[39;49m\u001b[39m*\u001b[39;49mkwargs)\n",
      "File \u001b[0;32m~/anaconda3/envs/ds/lib/python3.10/site-packages/wandb/integration/keras/keras.py:174\u001b[0m, in \u001b[0;36mpatch_tf_keras.<locals>.new_v2\u001b[0;34m(*args, **kwargs)\u001b[0m\n\u001b[1;32m    172\u001b[0m     \u001b[39mfor\u001b[39;00m cbk \u001b[39min\u001b[39;00m cbks:\n\u001b[1;32m    173\u001b[0m         set_wandb_attrs(cbk, val_data)\n\u001b[0;32m--> 174\u001b[0m \u001b[39mreturn\u001b[39;00m old_v2(\u001b[39m*\u001b[39;49margs, \u001b[39m*\u001b[39;49m\u001b[39m*\u001b[39;49mkwargs)\n",
      "File \u001b[0;32m~/anaconda3/envs/ds/lib/python3.10/site-packages/keras/utils/traceback_utils.py:65\u001b[0m, in \u001b[0;36mfilter_traceback.<locals>.error_handler\u001b[0;34m(*args, **kwargs)\u001b[0m\n\u001b[1;32m     63\u001b[0m filtered_tb \u001b[39m=\u001b[39m \u001b[39mNone\u001b[39;00m\n\u001b[1;32m     64\u001b[0m \u001b[39mtry\u001b[39;00m:\n\u001b[0;32m---> 65\u001b[0m     \u001b[39mreturn\u001b[39;00m fn(\u001b[39m*\u001b[39;49margs, \u001b[39m*\u001b[39;49m\u001b[39m*\u001b[39;49mkwargs)\n\u001b[1;32m     66\u001b[0m \u001b[39mexcept\u001b[39;00m \u001b[39mException\u001b[39;00m \u001b[39mas\u001b[39;00m e:\n\u001b[1;32m     67\u001b[0m     filtered_tb \u001b[39m=\u001b[39m _process_traceback_frames(e\u001b[39m.\u001b[39m__traceback__)\n",
      "File \u001b[0;32m~/anaconda3/envs/ds/lib/python3.10/site-packages/keras/engine/training.py:1650\u001b[0m, in \u001b[0;36mModel.fit\u001b[0;34m(self, x, y, batch_size, epochs, verbose, callbacks, validation_split, validation_data, shuffle, class_weight, sample_weight, initial_epoch, steps_per_epoch, validation_steps, validation_batch_size, validation_freq, max_queue_size, workers, use_multiprocessing)\u001b[0m\n\u001b[1;32m   1642\u001b[0m \u001b[39mwith\u001b[39;00m tf\u001b[39m.\u001b[39mprofiler\u001b[39m.\u001b[39mexperimental\u001b[39m.\u001b[39mTrace(\n\u001b[1;32m   1643\u001b[0m     \u001b[39m\"\u001b[39m\u001b[39mtrain\u001b[39m\u001b[39m\"\u001b[39m,\n\u001b[1;32m   1644\u001b[0m     epoch_num\u001b[39m=\u001b[39mepoch,\n\u001b[0;32m   (...)\u001b[0m\n\u001b[1;32m   1647\u001b[0m     _r\u001b[39m=\u001b[39m\u001b[39m1\u001b[39m,\n\u001b[1;32m   1648\u001b[0m ):\n\u001b[1;32m   1649\u001b[0m     callbacks\u001b[39m.\u001b[39mon_train_batch_begin(step)\n\u001b[0;32m-> 1650\u001b[0m     tmp_logs \u001b[39m=\u001b[39m \u001b[39mself\u001b[39;49m\u001b[39m.\u001b[39;49mtrain_function(iterator)\n\u001b[1;32m   1651\u001b[0m     \u001b[39mif\u001b[39;00m data_handler\u001b[39m.\u001b[39mshould_sync:\n\u001b[1;32m   1652\u001b[0m         context\u001b[39m.\u001b[39masync_wait()\n",
      "File \u001b[0;32m~/anaconda3/envs/ds/lib/python3.10/site-packages/tensorflow/python/util/traceback_utils.py:150\u001b[0m, in \u001b[0;36mfilter_traceback.<locals>.error_handler\u001b[0;34m(*args, **kwargs)\u001b[0m\n\u001b[1;32m    148\u001b[0m filtered_tb \u001b[39m=\u001b[39m \u001b[39mNone\u001b[39;00m\n\u001b[1;32m    149\u001b[0m \u001b[39mtry\u001b[39;00m:\n\u001b[0;32m--> 150\u001b[0m   \u001b[39mreturn\u001b[39;00m fn(\u001b[39m*\u001b[39;49margs, \u001b[39m*\u001b[39;49m\u001b[39m*\u001b[39;49mkwargs)\n\u001b[1;32m    151\u001b[0m \u001b[39mexcept\u001b[39;00m \u001b[39mException\u001b[39;00m \u001b[39mas\u001b[39;00m e:\n\u001b[1;32m    152\u001b[0m   filtered_tb \u001b[39m=\u001b[39m _process_traceback_frames(e\u001b[39m.\u001b[39m__traceback__)\n",
      "File \u001b[0;32m~/anaconda3/envs/ds/lib/python3.10/site-packages/tensorflow/python/eager/polymorphic_function/polymorphic_function.py:880\u001b[0m, in \u001b[0;36mFunction.__call__\u001b[0;34m(self, *args, **kwds)\u001b[0m\n\u001b[1;32m    877\u001b[0m compiler \u001b[39m=\u001b[39m \u001b[39m\"\u001b[39m\u001b[39mxla\u001b[39m\u001b[39m\"\u001b[39m \u001b[39mif\u001b[39;00m \u001b[39mself\u001b[39m\u001b[39m.\u001b[39m_jit_compile \u001b[39melse\u001b[39;00m \u001b[39m\"\u001b[39m\u001b[39mnonXla\u001b[39m\u001b[39m\"\u001b[39m\n\u001b[1;32m    879\u001b[0m \u001b[39mwith\u001b[39;00m OptionalXlaContext(\u001b[39mself\u001b[39m\u001b[39m.\u001b[39m_jit_compile):\n\u001b[0;32m--> 880\u001b[0m   result \u001b[39m=\u001b[39m \u001b[39mself\u001b[39;49m\u001b[39m.\u001b[39;49m_call(\u001b[39m*\u001b[39;49margs, \u001b[39m*\u001b[39;49m\u001b[39m*\u001b[39;49mkwds)\n\u001b[1;32m    882\u001b[0m new_tracing_count \u001b[39m=\u001b[39m \u001b[39mself\u001b[39m\u001b[39m.\u001b[39mexperimental_get_tracing_count()\n\u001b[1;32m    883\u001b[0m without_tracing \u001b[39m=\u001b[39m (tracing_count \u001b[39m==\u001b[39m new_tracing_count)\n",
      "File \u001b[0;32m~/anaconda3/envs/ds/lib/python3.10/site-packages/tensorflow/python/eager/polymorphic_function/polymorphic_function.py:912\u001b[0m, in \u001b[0;36mFunction._call\u001b[0;34m(self, *args, **kwds)\u001b[0m\n\u001b[1;32m    909\u001b[0m   \u001b[39mself\u001b[39m\u001b[39m.\u001b[39m_lock\u001b[39m.\u001b[39mrelease()\n\u001b[1;32m    910\u001b[0m   \u001b[39m# In this case we have created variables on the first call, so we run the\u001b[39;00m\n\u001b[1;32m    911\u001b[0m   \u001b[39m# defunned version which is guaranteed to never create variables.\u001b[39;00m\n\u001b[0;32m--> 912\u001b[0m   \u001b[39mreturn\u001b[39;00m \u001b[39mself\u001b[39;49m\u001b[39m.\u001b[39;49m_no_variable_creation_fn(\u001b[39m*\u001b[39;49margs, \u001b[39m*\u001b[39;49m\u001b[39m*\u001b[39;49mkwds)  \u001b[39m# pylint: disable=not-callable\u001b[39;00m\n\u001b[1;32m    913\u001b[0m \u001b[39melif\u001b[39;00m \u001b[39mself\u001b[39m\u001b[39m.\u001b[39m_variable_creation_fn \u001b[39mis\u001b[39;00m \u001b[39mnot\u001b[39;00m \u001b[39mNone\u001b[39;00m:\n\u001b[1;32m    914\u001b[0m   \u001b[39m# Release the lock early so that multiple threads can perform the call\u001b[39;00m\n\u001b[1;32m    915\u001b[0m   \u001b[39m# in parallel.\u001b[39;00m\n\u001b[1;32m    916\u001b[0m   \u001b[39mself\u001b[39m\u001b[39m.\u001b[39m_lock\u001b[39m.\u001b[39mrelease()\n",
      "File \u001b[0;32m~/anaconda3/envs/ds/lib/python3.10/site-packages/tensorflow/python/eager/polymorphic_function/tracing_compiler.py:134\u001b[0m, in \u001b[0;36mTracingCompiler.__call__\u001b[0;34m(self, *args, **kwargs)\u001b[0m\n\u001b[1;32m    131\u001b[0m \u001b[39mwith\u001b[39;00m \u001b[39mself\u001b[39m\u001b[39m.\u001b[39m_lock:\n\u001b[1;32m    132\u001b[0m   (concrete_function,\n\u001b[1;32m    133\u001b[0m    filtered_flat_args) \u001b[39m=\u001b[39m \u001b[39mself\u001b[39m\u001b[39m.\u001b[39m_maybe_define_function(args, kwargs)\n\u001b[0;32m--> 134\u001b[0m \u001b[39mreturn\u001b[39;00m concrete_function\u001b[39m.\u001b[39;49m_call_flat(\n\u001b[1;32m    135\u001b[0m     filtered_flat_args, captured_inputs\u001b[39m=\u001b[39;49mconcrete_function\u001b[39m.\u001b[39;49mcaptured_inputs)\n",
      "File \u001b[0;32m~/anaconda3/envs/ds/lib/python3.10/site-packages/tensorflow/python/eager/polymorphic_function/monomorphic_function.py:1745\u001b[0m, in \u001b[0;36mConcreteFunction._call_flat\u001b[0;34m(self, args, captured_inputs, cancellation_manager)\u001b[0m\n\u001b[1;32m   1741\u001b[0m possible_gradient_type \u001b[39m=\u001b[39m gradients_util\u001b[39m.\u001b[39mPossibleTapeGradientTypes(args)\n\u001b[1;32m   1742\u001b[0m \u001b[39mif\u001b[39;00m (possible_gradient_type \u001b[39m==\u001b[39m gradients_util\u001b[39m.\u001b[39mPOSSIBLE_GRADIENT_TYPES_NONE\n\u001b[1;32m   1743\u001b[0m     \u001b[39mand\u001b[39;00m executing_eagerly):\n\u001b[1;32m   1744\u001b[0m   \u001b[39m# No tape is watching; skip to running the function.\u001b[39;00m\n\u001b[0;32m-> 1745\u001b[0m   \u001b[39mreturn\u001b[39;00m \u001b[39mself\u001b[39m\u001b[39m.\u001b[39m_build_call_outputs(\u001b[39mself\u001b[39;49m\u001b[39m.\u001b[39;49m_inference_function\u001b[39m.\u001b[39;49mcall(\n\u001b[1;32m   1746\u001b[0m       ctx, args, cancellation_manager\u001b[39m=\u001b[39;49mcancellation_manager))\n\u001b[1;32m   1747\u001b[0m forward_backward \u001b[39m=\u001b[39m \u001b[39mself\u001b[39m\u001b[39m.\u001b[39m_select_forward_and_backward_functions(\n\u001b[1;32m   1748\u001b[0m     args,\n\u001b[1;32m   1749\u001b[0m     possible_gradient_type,\n\u001b[1;32m   1750\u001b[0m     executing_eagerly)\n\u001b[1;32m   1751\u001b[0m forward_function, args_with_tangents \u001b[39m=\u001b[39m forward_backward\u001b[39m.\u001b[39mforward()\n",
      "File \u001b[0;32m~/anaconda3/envs/ds/lib/python3.10/site-packages/tensorflow/python/eager/polymorphic_function/monomorphic_function.py:378\u001b[0m, in \u001b[0;36m_EagerDefinedFunction.call\u001b[0;34m(self, ctx, args, cancellation_manager)\u001b[0m\n\u001b[1;32m    376\u001b[0m \u001b[39mwith\u001b[39;00m _InterpolateFunctionError(\u001b[39mself\u001b[39m):\n\u001b[1;32m    377\u001b[0m   \u001b[39mif\u001b[39;00m cancellation_manager \u001b[39mis\u001b[39;00m \u001b[39mNone\u001b[39;00m:\n\u001b[0;32m--> 378\u001b[0m     outputs \u001b[39m=\u001b[39m execute\u001b[39m.\u001b[39;49mexecute(\n\u001b[1;32m    379\u001b[0m         \u001b[39mstr\u001b[39;49m(\u001b[39mself\u001b[39;49m\u001b[39m.\u001b[39;49msignature\u001b[39m.\u001b[39;49mname),\n\u001b[1;32m    380\u001b[0m         num_outputs\u001b[39m=\u001b[39;49m\u001b[39mself\u001b[39;49m\u001b[39m.\u001b[39;49m_num_outputs,\n\u001b[1;32m    381\u001b[0m         inputs\u001b[39m=\u001b[39;49margs,\n\u001b[1;32m    382\u001b[0m         attrs\u001b[39m=\u001b[39;49mattrs,\n\u001b[1;32m    383\u001b[0m         ctx\u001b[39m=\u001b[39;49mctx)\n\u001b[1;32m    384\u001b[0m   \u001b[39melse\u001b[39;00m:\n\u001b[1;32m    385\u001b[0m     outputs \u001b[39m=\u001b[39m execute\u001b[39m.\u001b[39mexecute_with_cancellation(\n\u001b[1;32m    386\u001b[0m         \u001b[39mstr\u001b[39m(\u001b[39mself\u001b[39m\u001b[39m.\u001b[39msignature\u001b[39m.\u001b[39mname),\n\u001b[1;32m    387\u001b[0m         num_outputs\u001b[39m=\u001b[39m\u001b[39mself\u001b[39m\u001b[39m.\u001b[39m_num_outputs,\n\u001b[0;32m   (...)\u001b[0m\n\u001b[1;32m    390\u001b[0m         ctx\u001b[39m=\u001b[39mctx,\n\u001b[1;32m    391\u001b[0m         cancellation_manager\u001b[39m=\u001b[39mcancellation_manager)\n",
      "File \u001b[0;32m~/anaconda3/envs/ds/lib/python3.10/site-packages/tensorflow/python/eager/execute.py:52\u001b[0m, in \u001b[0;36mquick_execute\u001b[0;34m(op_name, num_outputs, inputs, attrs, ctx, name)\u001b[0m\n\u001b[1;32m     50\u001b[0m \u001b[39mtry\u001b[39;00m:\n\u001b[1;32m     51\u001b[0m   ctx\u001b[39m.\u001b[39mensure_initialized()\n\u001b[0;32m---> 52\u001b[0m   tensors \u001b[39m=\u001b[39m pywrap_tfe\u001b[39m.\u001b[39;49mTFE_Py_Execute(ctx\u001b[39m.\u001b[39;49m_handle, device_name, op_name,\n\u001b[1;32m     53\u001b[0m                                       inputs, attrs, num_outputs)\n\u001b[1;32m     54\u001b[0m \u001b[39mexcept\u001b[39;00m core\u001b[39m.\u001b[39m_NotOkStatusException \u001b[39mas\u001b[39;00m e:\n\u001b[1;32m     55\u001b[0m   \u001b[39mif\u001b[39;00m name \u001b[39mis\u001b[39;00m \u001b[39mnot\u001b[39;00m \u001b[39mNone\u001b[39;00m:\n",
      "\u001b[0;31mKeyboardInterrupt\u001b[0m: "
     ]
    }
   ],
   "source": [
    "\n",
    "with_gender = True\n",
    "for i in range(2):\n",
    "    if i == 1:\n",
    "        with_gender = False\n",
    "    lr = random_learning_rate()\n",
    "    batch_size = np.random.choice([16])\n",
    "    epoch = np.random.choice([50])\n",
    "\n",
    "    # Set Batch Size in the datasets\n",
    "    if not with_gender:\n",
    "        train_dataset = create_dataset_from_file(train_df[\"img_path\"], train_df[\"male\"].to_numpy().reshape(-1, 1), train_df[\"bone_age_z\"], use_gender=False, batch_size=batch_size)\n",
    "        valid_dataset = create_dataset_from_file(valid_df[\"img_path\"], valid_df[\"male\"].to_numpy().reshape(-1, 1), valid_df[\"bone_age_z\"], use_gender=False, batch_size=batch_size)\n",
    "        test_dataset = create_dataset_from_file(test_df[\"img_path\"], test_df[\"male\"].to_numpy().reshape(-1, 1), test_df[\"bone_age_z\"], use_gender=False, batch_size=batch_size)\n",
    "    else:\n",
    "        train_dataset_wg = create_dataset_from_file(train_df[\"img_path\"], train_df[\"male\"].to_numpy().reshape(-1, 1), train_df[\"bone_age_z\"], use_gender=True, batch_size=batch_size)\n",
    "        valid_dataset_wg = create_dataset_from_file(valid_df[\"img_path\"], valid_df[\"male\"].to_numpy().reshape(-1, 1), valid_df[\"bone_age_z\"], use_gender=True, batch_size=batch_size)\n",
    "        test_dataset_wg = create_dataset_from_file(test_df[\"img_path\"], test_df[\"male\"].to_numpy().reshape(-1, 1), test_df[\"bone_age_z\"], use_gender=True, batch_size=batch_size)\n",
    "\n",
    "    # Weights and Biases run initialization\n",
    "    run = wandb.init(project=\"hda-final\", \n",
    "                    entity=\"hda-project\",  # Entity is my team name on wandb website\n",
    "                    name = f\"CNN-v1-g-{with_gender}\",\n",
    "                    config = {\n",
    "                    \"MODEL_NAME\": \"CNN\",\n",
    "                    \"START_LR\": lr,\n",
    "                    \"BATCH_SIZE\": batch_size,\n",
    "                    \"GENDER\": with_gender\n",
    "                    })\n",
    "\n",
    "    callbacks = [red_lr_plat, WandbCallback()]\n",
    "\n",
    "    optimizer = tf.keras.optimizers.Adam( lr )\n",
    "\n",
    "    input_img = tf.keras.Input(shape=(img_size, img_size, 3), name=\"image\")\n",
    "    if not with_gender:\n",
    "        model = SmallCNN(input_img=input_img)()\n",
    "\n",
    "        #compile model\n",
    "        model.compile(loss = 'mse', optimizer = optimizer, metrics = [mae_in_months])\n",
    "\n",
    "        # Train the model\n",
    "        model.fit(train_dataset,  epochs = epoch, callbacks=callbacks, validation_data=valid_dataset)\n",
    "        \n",
    "        # predictions on test dataset\n",
    "        test_mae = tf_dataset_calculate_mae_in_months(test_dataset)\n",
    "\n",
    "    else:\n",
    "        input_gender = tf.keras.Input(shape=(1), name=\"gender\")\n",
    "        model = SmallCNN( input_img=input_img, input_gender=input_gender )()\n",
    "\n",
    "        #compile model\n",
    "        model.compile(loss = 'mse', optimizer = optimizer, metrics = [mae_in_months])\n",
    "\n",
    "        # Train the model\n",
    "        model.fit(train_dataset_wg,  epochs = epoch, callbacks=callbacks, validation_data=valid_dataset_wg)\n",
    "\n",
    "        # predictions on test dataset\n",
    "        test_mae = tf_dataset_calculate_mae_in_months(test_dataset_wg)\n",
    "\n",
    "    art = wandb.Artifact(f\"model-{run.name}-h5\", type=\"model\")\n",
    "    art.add_file(f\"{run.dir}/model-best.h5\")\n",
    "    wandb.log_artifact(art)\n",
    "\n",
    "    # Log Performance of the test dataset\n",
    "    wandb.log({\"test_mae_in_months\": test_mae})\n",
    "\n",
    "    # Tell W&B that a model run is complete\n",
    "    run.finish() \n",
    "\n",
    "# Save the Model\n",
    "# model.save(os.path.join(\"..\", \"nn_models\", \"model.h5\"))"
   ]
  },
  {
   "cell_type": "markdown",
   "metadata": {},
   "source": [
    "## Inceptionv4 Neural Network (Inv4NN)"
   ]
  },
  {
   "cell_type": "code",
   "execution_count": 9,
   "metadata": {},
   "outputs": [
    {
     "data": {
      "text/html": [
       "Finishing last run (ID:1sprffze) before initializing another..."
      ],
      "text/plain": [
       "<IPython.core.display.HTML object>"
      ]
     },
     "metadata": {},
     "output_type": "display_data"
    },
    {
     "data": {
      "text/html": [
       "Waiting for W&B process to finish... <strong style=\"color:green\">(success).</strong>"
      ],
      "text/plain": [
       "<IPython.core.display.HTML object>"
      ]
     },
     "metadata": {},
     "output_type": "display_data"
    },
    {
     "data": {
      "text/html": [
       " View run <strong style=\"color:#cdcd00\">Incenptionv4-v2</strong> at: <a href=\"https://wandb.ai/hda-project/jan12-run/runs/1sprffze\" target=\"_blank\">https://wandb.ai/hda-project/jan12-run/runs/1sprffze</a><br/>Synced 5 W&B file(s), 0 media file(s), 0 artifact file(s) and 0 other file(s)"
      ],
      "text/plain": [
       "<IPython.core.display.HTML object>"
      ]
     },
     "metadata": {},
     "output_type": "display_data"
    },
    {
     "data": {
      "text/html": [
       "Find logs at: <code>./wandb/run-20230125_075405-1sprffze/logs</code>"
      ],
      "text/plain": [
       "<IPython.core.display.HTML object>"
      ]
     },
     "metadata": {},
     "output_type": "display_data"
    },
    {
     "data": {
      "text/html": [
       "Successfully finished last run (ID:1sprffze). Initializing new run:<br/>"
      ],
      "text/plain": [
       "<IPython.core.display.HTML object>"
      ]
     },
     "metadata": {},
     "output_type": "display_data"
    },
    {
     "data": {
      "application/vnd.jupyter.widget-view+json": {
       "model_id": "463baf974de24aad8249ef3553cd33e0",
       "version_major": 2,
       "version_minor": 0
      },
      "text/plain": [
       "VBox(children=(Label(value='Waiting for wandb.init()...\\r'), FloatProgress(value=0.016668483933335664, max=1.0…"
      ]
     },
     "metadata": {},
     "output_type": "display_data"
    },
    {
     "data": {
      "text/html": [
       "wandb version 0.13.9 is available!  To upgrade, please run:\n",
       " $ pip install wandb --upgrade"
      ],
      "text/plain": [
       "<IPython.core.display.HTML object>"
      ]
     },
     "metadata": {},
     "output_type": "display_data"
    },
    {
     "data": {
      "text/html": [
       "Tracking run with wandb version 0.13.8"
      ],
      "text/plain": [
       "<IPython.core.display.HTML object>"
      ]
     },
     "metadata": {},
     "output_type": "display_data"
    },
    {
     "data": {
      "text/html": [
       "Run data is saved locally in <code>/home/teemo/MEGA/bdma-semesters/3-semester/Human Data Analysis/project_Radiograph-Age-Prediction/src/wandb/run-20230125_080648-bhft6zdy</code>"
      ],
      "text/plain": [
       "<IPython.core.display.HTML object>"
      ]
     },
     "metadata": {},
     "output_type": "display_data"
    },
    {
     "data": {
      "text/html": [
       "Syncing run <strong><a href=\"https://wandb.ai/hda-project/jan12-run/runs/bhft6zdy\" target=\"_blank\">Incenptionv4-v2-wg</a></strong> to <a href=\"https://wandb.ai/hda-project/jan12-run\" target=\"_blank\">Weights & Biases</a> (<a href=\"https://wandb.me/run\" target=\"_blank\">docs</a>)<br/>"
      ],
      "text/plain": [
       "<IPython.core.display.HTML object>"
      ]
     },
     "metadata": {},
     "output_type": "display_data"
    },
    {
     "data": {
      "text/html": [
       " View project at <a href=\"https://wandb.ai/hda-project/jan12-run\" target=\"_blank\">https://wandb.ai/hda-project/jan12-run</a>"
      ],
      "text/plain": [
       "<IPython.core.display.HTML object>"
      ]
     },
     "metadata": {},
     "output_type": "display_data"
    },
    {
     "data": {
      "text/html": [
       " View run at <a href=\"https://wandb.ai/hda-project/jan12-run/runs/bhft6zdy\" target=\"_blank\">https://wandb.ai/hda-project/jan12-run/runs/bhft6zdy</a>"
      ],
      "text/plain": [
       "<IPython.core.display.HTML object>"
      ]
     },
     "metadata": {},
     "output_type": "display_data"
    },
    {
     "name": "stdout",
     "output_type": "stream",
     "text": [
      "Epoch 1/3\n",
      "8/8 [==============================] - ETA: 0s - loss: 26837.5703 - mae_in_months: 1959.3499"
     ]
    },
    {
     "name": "stderr",
     "output_type": "stream",
     "text": [
      "WARNING:absl:Found untraced functions such as _jit_compiled_convolution_op, _jit_compiled_convolution_op, _jit_compiled_convolution_op, _jit_compiled_convolution_op, _jit_compiled_convolution_op while saving (showing 5 of 150). These functions will not be directly callable after loading.\n"
     ]
    },
    {
     "name": "stdout",
     "output_type": "stream",
     "text": [
      "INFO:tensorflow:Assets written to: /home/teemo/MEGA/bdma-semesters/3-semester/Human Data Analysis/project_Radiograph-Age-Prediction/src/wandb/run-20230125_080648-bhft6zdy/files/model-best/assets\n"
     ]
    },
    {
     "name": "stderr",
     "output_type": "stream",
     "text": [
      "INFO:tensorflow:Assets written to: /home/teemo/MEGA/bdma-semesters/3-semester/Human Data Analysis/project_Radiograph-Age-Prediction/src/wandb/run-20230125_080648-bhft6zdy/files/model-best/assets\n",
      "\u001b[34m\u001b[1mwandb\u001b[0m: Adding directory to artifact (/home/teemo/MEGA/bdma-semesters/3-semester/Human Data Analysis/project_Radiograph-Age-Prediction/src/wandb/run-20230125_080648-bhft6zdy/files/model-best)... Done. 1.6s\n"
     ]
    },
    {
     "name": "stdout",
     "output_type": "stream",
     "text": [
      "8/8 [==============================] - 278s 34s/step - loss: 26837.5703 - mae_in_months: 1959.3499 - val_loss: 1.0339 - val_mae_in_months: 34.5547 - lr: 0.0944\n",
      "Epoch 2/3\n",
      "8/8 [==============================] - 195s 27s/step - loss: 2.2330 - mae_in_months: 49.8243 - val_loss: 1.0445 - val_mae_in_months: 34.8518 - lr: 0.0944\n",
      "Epoch 3/3\n",
      "8/8 [==============================] - 177s 25s/step - loss: 1.9245 - mae_in_months: 48.3407 - val_loss: 1.0516 - val_mae_in_months: 35.0050 - lr: 0.0944\n"
     ]
    },
    {
     "data": {
      "text/html": [
       "Waiting for W&B process to finish... <strong style=\"color:green\">(success).</strong>"
      ],
      "text/plain": [
       "<IPython.core.display.HTML object>"
      ]
     },
     "metadata": {},
     "output_type": "display_data"
    },
    {
     "data": {
      "text/html": [
       "<style>\n",
       "    table.wandb td:nth-child(1) { padding: 0 10px; text-align: left ; width: auto;} td:nth-child(2) {text-align: left ; width: 100%}\n",
       "    .wandb-row { display: flex; flex-direction: row; flex-wrap: wrap; justify-content: flex-start; width: 100% }\n",
       "    .wandb-col { display: flex; flex-direction: column; flex-basis: 100%; flex: 1; padding: 10px; }\n",
       "    </style>\n",
       "<div class=\"wandb-row\"><div class=\"wandb-col\"><h3>Run history:</h3><br/><table class=\"wandb\"><tr><td>epoch</td><td>▁▅█</td></tr><tr><td>loss</td><td>█▁▁</td></tr><tr><td>lr</td><td>▁▁▁</td></tr><tr><td>mae_in_months</td><td>█▁▁</td></tr><tr><td>val_loss</td><td>▁▅█</td></tr><tr><td>val_mae_in_months</td><td>▁▆█</td></tr></table><br/></div><div class=\"wandb-col\"><h3>Run summary:</h3><br/><table class=\"wandb\"><tr><td>best_epoch</td><td>0</td></tr><tr><td>best_val_loss</td><td>1.03388</td></tr><tr><td>epoch</td><td>2</td></tr><tr><td>loss</td><td>1.92449</td></tr><tr><td>lr</td><td>0.09442</td></tr><tr><td>mae_in_months</td><td>48.34068</td></tr><tr><td>val_loss</td><td>1.05161</td></tr><tr><td>val_mae_in_months</td><td>35.00496</td></tr></table><br/></div></div>"
      ],
      "text/plain": [
       "<IPython.core.display.HTML object>"
      ]
     },
     "metadata": {},
     "output_type": "display_data"
    },
    {
     "data": {
      "text/html": [
       " View run <strong style=\"color:#cdcd00\">Incenptionv4-v2-wg</strong> at: <a href=\"https://wandb.ai/hda-project/jan12-run/runs/bhft6zdy\" target=\"_blank\">https://wandb.ai/hda-project/jan12-run/runs/bhft6zdy</a><br/>Synced 5 W&B file(s), 1 media file(s), 5 artifact file(s) and 1 other file(s)"
      ],
      "text/plain": [
       "<IPython.core.display.HTML object>"
      ]
     },
     "metadata": {},
     "output_type": "display_data"
    },
    {
     "data": {
      "text/html": [
       "Find logs at: <code>./wandb/run-20230125_080648-bhft6zdy/logs</code>"
      ],
      "text/plain": [
       "<IPython.core.display.HTML object>"
      ]
     },
     "metadata": {},
     "output_type": "display_data"
    },
    {
     "data": {
      "application/vnd.jupyter.widget-view+json": {
       "model_id": "60f24057a81d4dcc8be97e42d6f01322",
       "version_major": 2,
       "version_minor": 0
      },
      "text/plain": [
       "VBox(children=(Label(value='Waiting for wandb.init()...\\r'), FloatProgress(value=0.01666859628333744, max=1.0)…"
      ]
     },
     "metadata": {},
     "output_type": "display_data"
    },
    {
     "data": {
      "text/html": [
       "wandb version 0.13.9 is available!  To upgrade, please run:\n",
       " $ pip install wandb --upgrade"
      ],
      "text/plain": [
       "<IPython.core.display.HTML object>"
      ]
     },
     "metadata": {},
     "output_type": "display_data"
    },
    {
     "data": {
      "text/html": [
       "Tracking run with wandb version 0.13.8"
      ],
      "text/plain": [
       "<IPython.core.display.HTML object>"
      ]
     },
     "metadata": {},
     "output_type": "display_data"
    },
    {
     "data": {
      "text/html": [
       "Run data is saved locally in <code>/home/teemo/MEGA/bdma-semesters/3-semester/Human Data Analysis/project_Radiograph-Age-Prediction/src/wandb/run-20230125_081941-o0afayyj</code>"
      ],
      "text/plain": [
       "<IPython.core.display.HTML object>"
      ]
     },
     "metadata": {},
     "output_type": "display_data"
    },
    {
     "data": {
      "text/html": [
       "Syncing run <strong><a href=\"https://wandb.ai/hda-project/jan12-run/runs/o0afayyj\" target=\"_blank\">Incenptionv4-v2-wg</a></strong> to <a href=\"https://wandb.ai/hda-project/jan12-run\" target=\"_blank\">Weights & Biases</a> (<a href=\"https://wandb.me/run\" target=\"_blank\">docs</a>)<br/>"
      ],
      "text/plain": [
       "<IPython.core.display.HTML object>"
      ]
     },
     "metadata": {},
     "output_type": "display_data"
    },
    {
     "data": {
      "text/html": [
       " View project at <a href=\"https://wandb.ai/hda-project/jan12-run\" target=\"_blank\">https://wandb.ai/hda-project/jan12-run</a>"
      ],
      "text/plain": [
       "<IPython.core.display.HTML object>"
      ]
     },
     "metadata": {},
     "output_type": "display_data"
    },
    {
     "data": {
      "text/html": [
       " View run at <a href=\"https://wandb.ai/hda-project/jan12-run/runs/o0afayyj\" target=\"_blank\">https://wandb.ai/hda-project/jan12-run/runs/o0afayyj</a>"
      ],
      "text/plain": [
       "<IPython.core.display.HTML object>"
      ]
     },
     "metadata": {},
     "output_type": "display_data"
    },
    {
     "name": "stdout",
     "output_type": "stream",
     "text": [
      "Epoch 1/3\n",
      "8/8 [==============================] - 234s 27s/step - loss: 113.4524 - mae_in_months: 208.3066 - val_loss: nan - val_mae_in_months: nan - lr: 0.0261\n",
      "Epoch 2/3\n",
      "8/8 [==============================] - 197s 28s/step - loss: 2.3790 - mae_in_months: 50.3453 - val_loss: inf - val_mae_in_months: inf - lr: 0.0261\n",
      "Epoch 3/3\n",
      "8/8 [==============================] - 194s 27s/step - loss: 2.2072 - mae_in_months: 48.0884 - val_loss: inf - val_mae_in_months: 419133523850299772070103351296.0000 - lr: 0.0261\n"
     ]
    },
    {
     "data": {
      "text/html": [
       "Waiting for W&B process to finish... <strong style=\"color:green\">(success).</strong>"
      ],
      "text/plain": [
       "<IPython.core.display.HTML object>"
      ]
     },
     "metadata": {},
     "output_type": "display_data"
    },
    {
     "data": {
      "text/html": [
       "<style>\n",
       "    table.wandb td:nth-child(1) { padding: 0 10px; text-align: left ; width: auto;} td:nth-child(2) {text-align: left ; width: 100%}\n",
       "    .wandb-row { display: flex; flex-direction: row; flex-wrap: wrap; justify-content: flex-start; width: 100% }\n",
       "    .wandb-col { display: flex; flex-direction: column; flex-basis: 100%; flex: 1; padding: 10px; }\n",
       "    </style>\n",
       "<div class=\"wandb-row\"><div class=\"wandb-col\"><h3>Run history:</h3><br/><table class=\"wandb\"><tr><td>epoch</td><td>▁▅█</td></tr><tr><td>loss</td><td>█▁▁</td></tr><tr><td>lr</td><td>▁▁▁</td></tr><tr><td>mae_in_months</td><td>█▁▁</td></tr><tr><td>val_mae_in_months</td><td>  ▁</td></tr></table><br/></div><div class=\"wandb-col\"><h3>Run summary:</h3><br/><table class=\"wandb\"><tr><td>epoch</td><td>2</td></tr><tr><td>loss</td><td>2.20724</td></tr><tr><td>lr</td><td>0.02606</td></tr><tr><td>mae_in_months</td><td>48.08841</td></tr><tr><td>val_loss</td><td>inf</td></tr><tr><td>val_mae_in_months</td><td>4.191335238502998e+29</td></tr></table><br/></div></div>"
      ],
      "text/plain": [
       "<IPython.core.display.HTML object>"
      ]
     },
     "metadata": {},
     "output_type": "display_data"
    },
    {
     "data": {
      "text/html": [
       " View run <strong style=\"color:#cdcd00\">Incenptionv4-v2-wg</strong> at: <a href=\"https://wandb.ai/hda-project/jan12-run/runs/o0afayyj\" target=\"_blank\">https://wandb.ai/hda-project/jan12-run/runs/o0afayyj</a><br/>Synced 5 W&B file(s), 1 media file(s), 0 artifact file(s) and 0 other file(s)"
      ],
      "text/plain": [
       "<IPython.core.display.HTML object>"
      ]
     },
     "metadata": {},
     "output_type": "display_data"
    },
    {
     "data": {
      "text/html": [
       "Find logs at: <code>./wandb/run-20230125_081941-o0afayyj/logs</code>"
      ],
      "text/plain": [
       "<IPython.core.display.HTML object>"
      ]
     },
     "metadata": {},
     "output_type": "display_data"
    }
   ],
   "source": [
    "with_gender = True\n",
    "for i in range(2):\n",
    "    lr = random_learning_rate()\n",
    "    batch_size = np.random.choice([8, 16, 32])\n",
    "    epoch = np.random.choice([3, 4, 5 ])\n",
    "\n",
    "    if not with_gender:\n",
    "        # Set Batch Size in the datasets\n",
    "        train_dataset = create_dataset_from_file(train_df[\"img_path\"], train_df[\"male\"].to_numpy().reshape(-1, 1), train_df[\"bone_age_z\"], use_gender=False, batch_size=batch_size)\n",
    "        valid_dataset = create_dataset_from_file(valid_df[\"img_path\"], valid_df[\"male\"].to_numpy().reshape(-1, 1), valid_df[\"bone_age_z\"], use_gender=False, batch_size=batch_size)\n",
    "        test_dataset = create_dataset_from_file(test_df[\"img_path\"], test_df[\"male\"].to_numpy().reshape(-1, 1), test_df[\"bone_age_z\"], use_gender=False, batch_size=batch_size)\n",
    "    else:\n",
    "        train_dataset_wg = create_dataset_from_file(train_df[\"img_path\"], train_df[\"male\"].to_numpy().reshape(-1, 1), train_df[\"bone_age_z\"], use_gender=True, batch_size=batch_size)\n",
    "        valid_dataset_wg = create_dataset_from_file(valid_df[\"img_path\"], valid_df[\"male\"].to_numpy().reshape(-1, 1), valid_df[\"bone_age_z\"], use_gender=True, batch_size=batch_size)\n",
    "        test_dataset_wg = create_dataset_from_file(test_df[\"img_path\"], test_df[\"male\"].to_numpy().reshape(-1, 1), test_df[\"bone_age_z\"], use_gender=True, batch_size=batch_size)\n",
    "\n",
    "    # Weights and Biases run initialization\n",
    "    run = wandb.init(project=\"jan12-run\", \n",
    "                    entity=\"hda-project\",  # Entity is my team name on wandb website\n",
    "                    name = \"Incenptionv4-v2-wg\",\n",
    "                    config = {\n",
    "                    \"MODEL_NAME\": \"Inceptionv4-Gender\",\n",
    "                    \"START_LR\": lr,\n",
    "                    \"BATCH_SIZE\": batch_size,\n",
    "                    \"GENDER\": with_gender\n",
    "                    })\n",
    "    # wandb.config[\"learning_rate\"] = lr\n",
    "    # wandb.config[\"epochs\"] = epoch\n",
    "    callbacks = [red_lr_plat, WandbCallback()]\n",
    "\n",
    "    input_img = tf.keras.Input(shape=(img_size, img_size, 3), name=\"image\")\n",
    "    input_gender = tf.keras.Input(shape=(1), name=\"gender\")\n",
    "\n",
    "    optimizer = tf.keras.optimizers.Adam( lr )\n",
    "\n",
    "    if not with_gender:\n",
    "        model = Inception((img_size, img_size, 3))()\n",
    "\n",
    "        #compile model\n",
    "        model.compile(loss = 'mse', optimizer = optimizer , metrics = [mae_in_months])\n",
    "\n",
    "        # Train the model\n",
    "        model.fit(train_dataset,  epochs = epoch, callbacks=callbacks, validation_data=valid_dataset)\n",
    "\n",
    "    else:\n",
    "        model = Inception((img_size, img_size, 3), input_gender=input_gender)()\n",
    "\n",
    "        #compile model\n",
    "        model.compile(loss = 'mse', optimizer = optimizer , metrics = [mae_in_months])\n",
    "\n",
    "        # Train the model\n",
    "        model.fit(train_dataset_wg,  epochs = epoch, callbacks=callbacks, validation_data=valid_dataset_wg)\n",
    "\n",
    "\n",
    "    # Tell W&B that a model run is complete\n",
    "    run.finish() "
   ]
  },
  {
   "cell_type": "code",
   "execution_count": 35,
   "metadata": {},
   "outputs": [
    {
     "data": {
      "text/plain": [
       "8"
      ]
     },
     "execution_count": 35,
     "metadata": {},
     "output_type": "execute_result"
    }
   ],
   "source": [
    "batch_size"
   ]
  },
  {
   "cell_type": "code",
   "execution_count": 78,
   "metadata": {},
   "outputs": [
    {
     "data": {
      "text/plain": [
       "array([1, 2, 3, 4, 5, 6])"
      ]
     },
     "execution_count": 78,
     "metadata": {},
     "output_type": "execute_result"
    }
   ],
   "source": [
    "a = np.array([1, 2, 3])\n",
    "np.append(a, [4, 5, 6])"
   ]
  },
  {
   "cell_type": "code",
   "execution_count": 94,
   "metadata": {},
   "outputs": [
    {
     "name": "stdout",
     "output_type": "stream",
     "text": [
      "1/1 [==============================] - 0s 36ms/step\n",
      "1/1 [==============================] - 0s 39ms/step\n",
      "1/1 [==============================] - 0s 35ms/step\n",
      "1/1 [==============================] - 0s 33ms/step\n",
      "1/1 [==============================] - 0s 37ms/step\n",
      "1/1 [==============================] - 0s 35ms/step\n",
      "1/1 [==============================] - 0s 33ms/step\n",
      "1/1 [==============================] - 0s 38ms/step\n",
      "1/1 [==============================] - 0s 32ms/step\n",
      "1/1 [==============================] - 0s 37ms/step\n",
      "1/1 [==============================] - 0s 34ms/step\n",
      "1/1 [==============================] - 0s 36ms/step\n",
      "1/1 [==============================] - 0s 37ms/step\n",
      "1/1 [==============================] - 0s 50ms/step\n",
      "1/1 [==============================] - 0s 33ms/step\n",
      "1/1 [==============================] - 0s 41ms/step\n",
      "1/1 [==============================] - 0s 33ms/step\n",
      "1/1 [==============================] - 0s 36ms/step\n",
      "1/1 [==============================] - 0s 63ms/step\n",
      "1/1 [==============================] - 0s 49ms/step\n",
      "1/1 [==============================] - 0s 39ms/step\n",
      "1/1 [==============================] - 0s 38ms/step\n",
      "1/1 [==============================] - 0s 36ms/step\n",
      "1/1 [==============================] - 0s 35ms/step\n",
      "1/1 [==============================] - 0s 35ms/step\n"
     ]
    },
    {
     "data": {
      "text/plain": [
       "38.74355136832752"
      ]
     },
     "execution_count": 94,
     "metadata": {},
     "output_type": "execute_result"
    }
   ],
   "source": [
    "def tf_dataset_calculate_mae_in_months(tf_dataset=None):\n",
    "    pred_y = np.array([])\n",
    "    test_y = np.array([])\n",
    "    for xray_batch in tf_dataset:\n",
    "        # In xray_batch is a tuple, 1st element is features, 2nd element is the label or target\n",
    "        yhat = model.predict(xray_batch[0]).flatten()\n",
    "        pred_y = np.append(pred_y, yhat)\n",
    "        y = xray_batch[1].numpy()\n",
    "        test_y = np.append(test_y, y)\n",
    "    mae = mae_in_months(pred_y, test_y)\n",
    "    #     break\n",
    "    # print(f\"pred_y: {len(pred_y)}\")\n",
    "    # print(f\"test_y: {len(test_y)}\")\n",
    "    return mae.numpy()\n",
    "\n",
    "## For debugging\n",
    "# Calculate Test Mean Absolute Error (MAE) in months\n",
    "# pred_y = model.predict(test_dataset_wg)\n",
    "# test_y = test_df[\"bone_age_z\"]\n",
    "# test_y = mean_bone_age + std_bone_age * ( df_test[hparams.TARGET_VAR].to_numpy())\n",
    "# pred_y = mean_bone_age + std_bone_age * (model.predict(test_dataset))\n",
    "# mae_value = sklearn.metrics.mean_absolute_error(test_y, pred_y)\n",
    "# test_df[\"bone_age_z\"].shape\n",
    "# mae_in_month = smae_in_months(test_df[\"bone_age_z\"], pred_y.flatten()).numpy()\n",
    "# print(mae_in_months)\n",
    "\n",
    "tf_dataset_calculate_mae_in_months(test_dataset_wg)\n"
   ]
  },
  {
   "cell_type": "markdown",
   "metadata": {},
   "source": [
    "## Old Code"
   ]
  },
  {
   "cell_type": "code",
   "execution_count": null,
   "metadata": {},
   "outputs": [],
   "source": [
    "input_img = tf.keras.Input(shape=(img_size, img_size, 3), name=\"Image\")\n",
    "\n",
    "input_gender = tf.keras.Input(shape=(1), name=\"Gender\")\n",
    "\n",
    "model = SmallCNN( input_img=input_img, input_gender=input_gender )()\n",
    "\n",
    "optimizer = tf.keras.optimizers.Adam( 0.1 )\n",
    "\n",
    "#compile model\n",
    "model.compile(loss = 'mse', optimizer = optimizer , metrics = [mae_in_months])\n",
    "\n",
    "# Train the model\n",
    "model.fit(train_dataset_wg,  epochs = 10, callbacks=callbacks, validation_data=valid_dataset_wg)\n",
    "\n",
    "# Tell W&B that a model run is complete\n",
    "run.join() \n",
    "\n",
    "# Save the Model\n",
    "# model.save(os.path.join(\"..\", \"nn_models\", \"model.h5\"))"
   ]
  },
  {
   "cell_type": "code",
   "execution_count": null,
   "metadata": {},
   "outputs": [],
   "source": []
  }
 ],
 "metadata": {
  "kernelspec": {
   "display_name": "base",
   "language": "python",
   "name": "python3"
  },
  "language_info": {
   "codemirror_mode": {
    "name": "ipython",
    "version": 3
   },
   "file_extension": ".py",
   "mimetype": "text/x-python",
   "name": "python",
   "nbconvert_exporter": "python",
   "pygments_lexer": "ipython3",
   "version": "3.9.13"
  },
  "orig_nbformat": 4,
  "vscode": {
   "interpreter": {
    "hash": "b58e8d2897631be50599cb2475829bc7f4f92a7dfee912534f9645fab183932d"
   }
  }
 },
 "nbformat": 4,
 "nbformat_minor": 2
}
