{
 "cells": [
  {
   "cell_type": "code",
   "execution_count": 1,
   "metadata": {},
   "outputs": [
    {
     "name": "stderr",
     "output_type": "stream",
     "text": [
      "2023-02-04 16:06:18.792541: I tensorflow/core/platform/cpu_feature_guard.cc:193] This TensorFlow binary is optimized with oneAPI Deep Neural Network Library (oneDNN) to use the following CPU instructions in performance-critical operations:  AVX2 AVX512F AVX512_VNNI FMA\n",
      "To enable them in other operations, rebuild TensorFlow with the appropriate compiler flags.\n",
      "2023-02-04 16:06:19.498681: I tensorflow/core/util/port.cc:104] oneDNN custom operations are on. You may see slightly different numerical results due to floating-point round-off errors from different computation orders. To turn them off, set the environment variable `TF_ENABLE_ONEDNN_OPTS=0`.\n",
      "2023-02-04 16:06:19.559855: W tensorflow/compiler/xla/stream_executor/platform/default/dso_loader.cc:64] Could not load dynamic library 'libcudart.so.11.0'; dlerror: libcudart.so.11.0: cannot open shared object file: No such file or directory; LD_LIBRARY_PATH: /app/lib\n",
      "2023-02-04 16:06:19.559887: I tensorflow/compiler/xla/stream_executor/cuda/cudart_stub.cc:29] Ignore above cudart dlerror if you do not have a GPU set up on your machine.\n",
      "2023-02-04 16:06:21.188164: W tensorflow/compiler/xla/stream_executor/platform/default/dso_loader.cc:64] Could not load dynamic library 'libnvinfer.so.7'; dlerror: libnvinfer.so.7: cannot open shared object file: No such file or directory; LD_LIBRARY_PATH: /app/lib\n",
      "2023-02-04 16:06:21.188527: W tensorflow/compiler/xla/stream_executor/platform/default/dso_loader.cc:64] Could not load dynamic library 'libnvinfer_plugin.so.7'; dlerror: libnvinfer_plugin.so.7: cannot open shared object file: No such file or directory; LD_LIBRARY_PATH: /app/lib\n",
      "2023-02-04 16:06:21.188540: W tensorflow/compiler/tf2tensorrt/utils/py_utils.cc:38] TF-TRT Warning: Cannot dlopen some TensorRT libraries. If you would like to use Nvidia GPU with TensorRT, please make sure the missing libraries mentioned above are installed properly.\n"
     ]
    }
   ],
   "source": [
    "import numpy as np # linear algebra\n",
    "import pandas as pd # data processing, CSV file I/O (e.g. pd.read_csv)\n",
    "import tensorflow as tf\n",
    "from keras.metrics import mean_absolute_error\n",
    "import datetime, os\n",
    "import math\n",
    "import matplotlib.pyplot as plt\n",
    "import seaborn as sns\n",
    "from sklearn.model_selection import train_test_split\n",
    "import matplotlib.image as mpimg\n",
    "\n",
    "import wandb\n",
    "from wandb.keras import WandbCallback\n",
    "\n",
    "#library required for image preprocessing\n",
    "from tensorflow.keras.preprocessing.image import ImageDataGenerator\n",
    "from tensorflow.keras.callbacks import EarlyStopping, ModelCheckpoint, ReduceLROnPlateau\n",
    "\n",
    "from utils import create_dataset_from_file\n",
    "from models import SmallCNN, Inception\n",
    "# !wandb login  # Login command for Weights and Biases library\n",
    "\n",
    "# To disable the GPU\n",
    "os.environ[\"CUDA_VISIBLE_DEVICES\"] = \"\""
   ]
  },
  {
   "cell_type": "markdown",
   "metadata": {},
   "source": [
    "## HyperParameters"
   ]
  },
  {
   "cell_type": "code",
   "execution_count": 11,
   "metadata": {},
   "outputs": [],
   "source": [
    "img_size = 256"
   ]
  },
  {
   "cell_type": "markdown",
   "metadata": {},
   "source": [
    "## Load and Preprocess Input Dataset"
   ]
  },
  {
   "cell_type": "code",
   "execution_count": 3,
   "metadata": {},
   "outputs": [],
   "source": [
    "machine = \"local\"\n",
    "# loading Data\n",
    "if machine == \"Google-Drive\":\n",
    "    from google.colab import drive\n",
    "    drive.mount('/content/drive/')\n",
    "    \n",
    "### Set here the localtion of the data folder of your google drive\n",
    "if machine == \"Google-Drive\":\n",
    "    train_dir = \"/content/drive/MyDrive/BDMA/3-semester/human_data_analysis/Bone Age 1k Set/\"\n",
    "    train_df = pd.read_csv( os.path.join(train_dir,\"train.csv\") )\n",
    "    \n",
    "else:\n",
    "    train_dir = \"/home/teemo/Documents/bone_data/Bone Age Training Set/\"\n",
    "    train_image_dir = os.path.join( train_dir, \"boneage-training-dataset\")\n",
    "    train_df = pd.read_csv( os.path.join(train_dir,\"train.csv\") )\n",
    "\n",
    "# Preprocess Train Dataset\n",
    "train_df[\"male\"] = train_df[\"male\"].astype(int)\n",
    "\n",
    "\n",
    "### Validation Data\n",
    "validation_dir = \"/home/teemo/Documents/bone_data/Bone Age Validation Set/\"\n",
    "validation_image_dir = os.path.join( validation_dir, \"boneage-validation-dataset\")\n",
    "valid_df = pd.read_csv( os.path.join(validation_dir,\"Validation Dataset.csv\") )\n",
    "\n",
    "# Preprocess Validation Dataset\n",
    "valid_df = valid_df.rename(columns={'Bone Age (months)': 'boneage', 'Image ID': 'id'})\n",
    "valid_df[\"male\"] = valid_df[\"male\"].astype(int)\n",
    "\n",
    "\n",
    "### Test Data\n",
    "test_dir = \"/home/teemo/Documents/bone_data/Bone Age Test Set/\"\n",
    "test_image_dir = os.path.join(test_dir, \"boneage-testing-dataset\")\n",
    "test_df = pd.read_csv(  os.path.join(test_dir, \"test.csv\"))\n",
    "\n",
    "# Preprocess Test Dataset\n",
    "test_df = test_df.rename(columns={'Ground truth bone age (months)': 'boneage', 'Case ID': 'id'})\n",
    "test_df[\"male\"] = test_df['Sex'].replace(['M', 'F'], [1, 0])\n",
    "test_df = test_df.drop(columns=[\"Sex\"])\n",
    "\n",
    "\n",
    "# Appending file extension to id column for both training and testing dataframes\n",
    "train_df['id'] = train_df['id'].apply(lambda x: str(x) + '.png')\n",
    "valid_df['id'] = valid_df['id'].apply(lambda x: str(x) + '.png')\n",
    "test_df['id'] = test_df['id'].apply(lambda x: str(x) + '.png') \n",
    "\n",
    "# Create Image paths. Will be needed in tensorflow Dataset API\n",
    "train_df['img_path'] = train_df['id'].apply(lambda x: os.path.join(train_image_dir, str(x)) )\n",
    "valid_df['img_path'] = valid_df['id'].apply(lambda x: os.path.join(validation_image_dir, str(x)) )\n",
    "test_df['img_path'] = test_df['id'].apply(lambda x: os.path.join(test_image_dir, str(x)) )\n",
    "\n",
    "#mean age is\n",
    "mean_bone_age = train_df['boneage'].mean()\n",
    "\n",
    "#standard deviation of boneage\n",
    "std_bone_age = train_df['boneage'].std()\n",
    "\n",
    "#models perform better when features are normalised to have zero mean and unity standard deviation\n",
    "#using z score for the training\n",
    "train_df.loc[:, 'bone_age_z'] = (train_df['boneage'] - mean_bone_age) / std_bone_age\n",
    "\n",
    "# Similarly z score for Validation & testing data\n",
    "valid_df.loc[:, \"bone_age_z\"] = (valid_df[\"boneage\"] - mean_bone_age) / std_bone_age\n",
    "test_df.loc[:, 'bone_age_z'] = (test_df['boneage'] - mean_bone_age) / std_bone_age\n",
    "\n",
    "train_df = train_df[:64]\n",
    "\n",
    "# train_dataset = create_dataset_from_file(train_df[\"img_path\"], train_df[\"male\"].to_numpy().reshape(-1, 1), train_df[\"bone_age_z\"], use_gender=False, batch_size=32)\n",
    "# valid_dataset = create_dataset_from_file(valid_df[\"img_path\"], valid_df[\"male\"].to_numpy().reshape(-1, 1), valid_df[\"bone_age_z\"], use_gender=False, batch_size=32)\n",
    "# test_dataset = create_dataset_from_file(test_df[\"img_path\"], test_df[\"male\"].to_numpy().reshape(-1, 1), test_df[\"bone_age_z\"], use_gender=False, batch_size=32)\n",
    "\n",
    "# train_dataset_wg = create_dataset_from_file(train_df[\"img_path\"], train_df[\"male\"].to_numpy().reshape(-1, 1), train_df[\"bone_age_z\"], use_gender=True, batch_size=32)\n",
    "# valid_dataset_wg = create_dataset_from_file(valid_df[\"img_path\"], valid_df[\"male\"].to_numpy().reshape(-1, 1), valid_df[\"bone_age_z\"], use_gender=True, batch_size=32)\n",
    "# test_dataset_wg = create_dataset_from_file(test_df[\"img_path\"], test_df[\"male\"].to_numpy().reshape(-1, 1), test_df[\"bone_age_z\"], use_gender=True, batch_size=32)\n"
   ]
  },
  {
   "cell_type": "markdown",
   "metadata": {},
   "source": [
    "## Model Training"
   ]
  },
  {
   "cell_type": "code",
   "execution_count": 4,
   "metadata": {},
   "outputs": [],
   "source": [
    "def mae_in_months(x_p, y_p):\n",
    "    '''function to return mae in months'''\n",
    "    return mean_absolute_error((std_bone_age*x_p + mean_bone_age), (std_bone_age*y_p + mean_bone_age)) \n",
    "def random_learning_rate(lower_bound=0.01, upper_bound=0.1) -> float:\n",
    "    return np.random.uniform(lower_bound, upper_bound) * np.random.choice([1, 0.1, 0.01 ])"
   ]
  },
  {
   "cell_type": "markdown",
   "metadata": {},
   "source": [
    "### Prepare callback functions"
   ]
  },
  {
   "cell_type": "code",
   "execution_count": 5,
   "metadata": {},
   "outputs": [],
   "source": [
    "# lst_lrs = [0.1, 0.01, 0.001, 0.0001]\n",
    "# lst_epochs = [1_0, 2_0, 3_0, 4_0]\n",
    "\n",
    "lst_lrs = [0.01]\n",
    "lst_epochs = [1_0]"
   ]
  },
  {
   "cell_type": "code",
   "execution_count": 6,
   "metadata": {},
   "outputs": [],
   "source": [
    "# body_data = np.random.randint(10000,  size=(1280, 100))\n",
    "# tags_data = np.random.randint(2,      size=(1280, 4)).astype(\"float32\")\n",
    "# np.random.random() \n",
    "def random_learning_rate(lower_bound=0.01, upper_bound=1.0) -> float:\n",
    "    return np.random.uniform(lower_bound, upper_bound) * np.random.choice([1, 0.1, 0.01 ])"
   ]
  },
  {
   "cell_type": "code",
   "execution_count": 7,
   "metadata": {},
   "outputs": [],
   "source": [
    "# reduce lr on plateau\n",
    "red_lr_plat = ReduceLROnPlateau(\n",
    "    monitor=\"val_loss\",\n",
    "    factor=0.1,\n",
    "    patience=10,\n",
    "    verbose=0,\n",
    "    mode=\"min\",\n",
    "    min_delta=0.0001,\n",
    "    cooldown=0,\n",
    "    min_lr=1e-10,\n",
    ")"
   ]
  },
  {
   "cell_type": "markdown",
   "metadata": {},
   "source": [
    "## Base Convolution Neural Network (BaseCNN)"
   ]
  },
  {
   "cell_type": "code",
   "execution_count": null,
   "metadata": {},
   "outputs": [],
   "source": [
    "\n",
    "with_gender = True\n",
    "for i in range(3):\n",
    "    lr = random_learning_rate()\n",
    "    batch_size = np.random.choice([8, 16, 32, 64])\n",
    "    epoch = np.random.choice([2, 3, 4 ])\n",
    "\n",
    "    # Set Batch Size in the datasets\n",
    "    train_dataset = create_dataset_from_file(train_df[\"img_path\"], train_df[\"male\"].to_numpy().reshape(-1, 1), train_df[\"bone_age_z\"], use_gender=False, batch_size=batch_size)\n",
    "    valid_dataset = create_dataset_from_file(valid_df[\"img_path\"], valid_df[\"male\"].to_numpy().reshape(-1, 1), valid_df[\"bone_age_z\"], use_gender=False, batch_size=batch_size)\n",
    "    test_dataset = create_dataset_from_file(test_df[\"img_path\"], test_df[\"male\"].to_numpy().reshape(-1, 1), test_df[\"bone_age_z\"], use_gender=False, batch_size=batch_size)\n",
    "\n",
    "    train_dataset_wg = create_dataset_from_file(train_df[\"img_path\"], train_df[\"male\"].to_numpy().reshape(-1, 1), train_df[\"bone_age_z\"], use_gender=True, batch_size=batch_size)\n",
    "    valid_dataset_wg = create_dataset_from_file(valid_df[\"img_path\"], valid_df[\"male\"].to_numpy().reshape(-1, 1), valid_df[\"bone_age_z\"], use_gender=True, batch_size=batch_size)\n",
    "    test_dataset_wg = create_dataset_from_file(test_df[\"img_path\"], test_df[\"male\"].to_numpy().reshape(-1, 1), test_df[\"bone_age_z\"], use_gender=True, batch_size=batch_size)\n",
    "\n",
    "    # Weights and Biases run initialization\n",
    "    run = wandb.init(project=\"jan12-run\", \n",
    "                    entity=\"hda-project\",  # Entity is my team name on wandb website\n",
    "                    name = \"BaseCNN_test\",\n",
    "                    config = {\n",
    "                    \"architecture\": \"base_conv_no_gender_info\",\n",
    "                    \"START_LR\": lr,\n",
    "                    \"BATCH_SIZE\": batch_size,\n",
    "                    \"GENDER\": with_gender\n",
    "                    })\n",
    "    # wandb.config[\"learning_rate\"] = lr\n",
    "    # wandb.config[\"epochs\"] = epoch\n",
    "    callbacks = [red_lr_plat, WandbCallback()]\n",
    "\n",
    "    input_img = tf.keras.Input(shape=(img_size, img_size, 3), name=\"image\")\n",
    "    input_gender = tf.keras.Input(shape=(1), name=\"gender\")\n",
    "\n",
    "    model = SmallCNN( input_img=input_img, input_gender=input_gender )()\n",
    "    # model = Inception((img_size, img_size, 3))()\n",
    "\n",
    "    optimizer = tf.keras.optimizers.Adam( lr )\n",
    "\n",
    "    #compile model\n",
    "    model.compile(loss = 'mse', optimizer = optimizer , metrics = [mae_in_months])\n",
    "\n",
    "    # Train the model\n",
    "    model.fit(train_dataset_wg,  epochs = epoch, callbacks=callbacks, validation_data=valid_dataset_wg)\n",
    "\n",
    "    # Tell W&B that a model run is complete\n",
    "    run.finish() \n",
    "\n",
    "# Save the Model\n",
    "# model.save(os.path.join(\"..\", \"nn_models\", \"model.h5\"))"
   ]
  },
  {
   "cell_type": "markdown",
   "metadata": {},
   "source": [
    "## Inceptionv4 Neural Network (Inv4NN)"
   ]
  },
  {
   "cell_type": "code",
   "execution_count": 9,
   "metadata": {},
   "outputs": [
    {
     "data": {
      "text/html": [
       "Finishing last run (ID:1sprffze) before initializing another..."
      ],
      "text/plain": [
       "<IPython.core.display.HTML object>"
      ]
     },
     "metadata": {},
     "output_type": "display_data"
    },
    {
     "data": {
      "text/html": [
       "Waiting for W&B process to finish... <strong style=\"color:green\">(success).</strong>"
      ],
      "text/plain": [
       "<IPython.core.display.HTML object>"
      ]
     },
     "metadata": {},
     "output_type": "display_data"
    },
    {
     "data": {
      "text/html": [
       " View run <strong style=\"color:#cdcd00\">Incenptionv4-v2</strong> at: <a href=\"https://wandb.ai/hda-project/jan12-run/runs/1sprffze\" target=\"_blank\">https://wandb.ai/hda-project/jan12-run/runs/1sprffze</a><br/>Synced 5 W&B file(s), 0 media file(s), 0 artifact file(s) and 0 other file(s)"
      ],
      "text/plain": [
       "<IPython.core.display.HTML object>"
      ]
     },
     "metadata": {},
     "output_type": "display_data"
    },
    {
     "data": {
      "text/html": [
       "Find logs at: <code>./wandb/run-20230125_075405-1sprffze/logs</code>"
      ],
      "text/plain": [
       "<IPython.core.display.HTML object>"
      ]
     },
     "metadata": {},
     "output_type": "display_data"
    },
    {
     "data": {
      "text/html": [
       "Successfully finished last run (ID:1sprffze). Initializing new run:<br/>"
      ],
      "text/plain": [
       "<IPython.core.display.HTML object>"
      ]
     },
     "metadata": {},
     "output_type": "display_data"
    },
    {
     "data": {
      "application/vnd.jupyter.widget-view+json": {
       "model_id": "463baf974de24aad8249ef3553cd33e0",
       "version_major": 2,
       "version_minor": 0
      },
      "text/plain": [
       "VBox(children=(Label(value='Waiting for wandb.init()...\\r'), FloatProgress(value=0.016668483933335664, max=1.0…"
      ]
     },
     "metadata": {},
     "output_type": "display_data"
    },
    {
     "data": {
      "text/html": [
       "wandb version 0.13.9 is available!  To upgrade, please run:\n",
       " $ pip install wandb --upgrade"
      ],
      "text/plain": [
       "<IPython.core.display.HTML object>"
      ]
     },
     "metadata": {},
     "output_type": "display_data"
    },
    {
     "data": {
      "text/html": [
       "Tracking run with wandb version 0.13.8"
      ],
      "text/plain": [
       "<IPython.core.display.HTML object>"
      ]
     },
     "metadata": {},
     "output_type": "display_data"
    },
    {
     "data": {
      "text/html": [
       "Run data is saved locally in <code>/home/teemo/MEGA/bdma-semesters/3-semester/Human Data Analysis/project_Radiograph-Age-Prediction/src/wandb/run-20230125_080648-bhft6zdy</code>"
      ],
      "text/plain": [
       "<IPython.core.display.HTML object>"
      ]
     },
     "metadata": {},
     "output_type": "display_data"
    },
    {
     "data": {
      "text/html": [
       "Syncing run <strong><a href=\"https://wandb.ai/hda-project/jan12-run/runs/bhft6zdy\" target=\"_blank\">Incenptionv4-v2-wg</a></strong> to <a href=\"https://wandb.ai/hda-project/jan12-run\" target=\"_blank\">Weights & Biases</a> (<a href=\"https://wandb.me/run\" target=\"_blank\">docs</a>)<br/>"
      ],
      "text/plain": [
       "<IPython.core.display.HTML object>"
      ]
     },
     "metadata": {},
     "output_type": "display_data"
    },
    {
     "data": {
      "text/html": [
       " View project at <a href=\"https://wandb.ai/hda-project/jan12-run\" target=\"_blank\">https://wandb.ai/hda-project/jan12-run</a>"
      ],
      "text/plain": [
       "<IPython.core.display.HTML object>"
      ]
     },
     "metadata": {},
     "output_type": "display_data"
    },
    {
     "data": {
      "text/html": [
       " View run at <a href=\"https://wandb.ai/hda-project/jan12-run/runs/bhft6zdy\" target=\"_blank\">https://wandb.ai/hda-project/jan12-run/runs/bhft6zdy</a>"
      ],
      "text/plain": [
       "<IPython.core.display.HTML object>"
      ]
     },
     "metadata": {},
     "output_type": "display_data"
    },
    {
     "name": "stdout",
     "output_type": "stream",
     "text": [
      "Epoch 1/3\n",
      "8/8 [==============================] - ETA: 0s - loss: 26837.5703 - mae_in_months: 1959.3499"
     ]
    },
    {
     "name": "stderr",
     "output_type": "stream",
     "text": [
      "WARNING:absl:Found untraced functions such as _jit_compiled_convolution_op, _jit_compiled_convolution_op, _jit_compiled_convolution_op, _jit_compiled_convolution_op, _jit_compiled_convolution_op while saving (showing 5 of 150). These functions will not be directly callable after loading.\n"
     ]
    },
    {
     "name": "stdout",
     "output_type": "stream",
     "text": [
      "INFO:tensorflow:Assets written to: /home/teemo/MEGA/bdma-semesters/3-semester/Human Data Analysis/project_Radiograph-Age-Prediction/src/wandb/run-20230125_080648-bhft6zdy/files/model-best/assets\n"
     ]
    },
    {
     "name": "stderr",
     "output_type": "stream",
     "text": [
      "INFO:tensorflow:Assets written to: /home/teemo/MEGA/bdma-semesters/3-semester/Human Data Analysis/project_Radiograph-Age-Prediction/src/wandb/run-20230125_080648-bhft6zdy/files/model-best/assets\n",
      "\u001b[34m\u001b[1mwandb\u001b[0m: Adding directory to artifact (/home/teemo/MEGA/bdma-semesters/3-semester/Human Data Analysis/project_Radiograph-Age-Prediction/src/wandb/run-20230125_080648-bhft6zdy/files/model-best)... Done. 1.6s\n"
     ]
    },
    {
     "name": "stdout",
     "output_type": "stream",
     "text": [
      "8/8 [==============================] - 278s 34s/step - loss: 26837.5703 - mae_in_months: 1959.3499 - val_loss: 1.0339 - val_mae_in_months: 34.5547 - lr: 0.0944\n",
      "Epoch 2/3\n",
      "8/8 [==============================] - 195s 27s/step - loss: 2.2330 - mae_in_months: 49.8243 - val_loss: 1.0445 - val_mae_in_months: 34.8518 - lr: 0.0944\n",
      "Epoch 3/3\n",
      "8/8 [==============================] - 177s 25s/step - loss: 1.9245 - mae_in_months: 48.3407 - val_loss: 1.0516 - val_mae_in_months: 35.0050 - lr: 0.0944\n"
     ]
    },
    {
     "data": {
      "text/html": [
       "Waiting for W&B process to finish... <strong style=\"color:green\">(success).</strong>"
      ],
      "text/plain": [
       "<IPython.core.display.HTML object>"
      ]
     },
     "metadata": {},
     "output_type": "display_data"
    },
    {
     "data": {
      "text/html": [
       "<style>\n",
       "    table.wandb td:nth-child(1) { padding: 0 10px; text-align: left ; width: auto;} td:nth-child(2) {text-align: left ; width: 100%}\n",
       "    .wandb-row { display: flex; flex-direction: row; flex-wrap: wrap; justify-content: flex-start; width: 100% }\n",
       "    .wandb-col { display: flex; flex-direction: column; flex-basis: 100%; flex: 1; padding: 10px; }\n",
       "    </style>\n",
       "<div class=\"wandb-row\"><div class=\"wandb-col\"><h3>Run history:</h3><br/><table class=\"wandb\"><tr><td>epoch</td><td>▁▅█</td></tr><tr><td>loss</td><td>█▁▁</td></tr><tr><td>lr</td><td>▁▁▁</td></tr><tr><td>mae_in_months</td><td>█▁▁</td></tr><tr><td>val_loss</td><td>▁▅█</td></tr><tr><td>val_mae_in_months</td><td>▁▆█</td></tr></table><br/></div><div class=\"wandb-col\"><h3>Run summary:</h3><br/><table class=\"wandb\"><tr><td>best_epoch</td><td>0</td></tr><tr><td>best_val_loss</td><td>1.03388</td></tr><tr><td>epoch</td><td>2</td></tr><tr><td>loss</td><td>1.92449</td></tr><tr><td>lr</td><td>0.09442</td></tr><tr><td>mae_in_months</td><td>48.34068</td></tr><tr><td>val_loss</td><td>1.05161</td></tr><tr><td>val_mae_in_months</td><td>35.00496</td></tr></table><br/></div></div>"
      ],
      "text/plain": [
       "<IPython.core.display.HTML object>"
      ]
     },
     "metadata": {},
     "output_type": "display_data"
    },
    {
     "data": {
      "text/html": [
       " View run <strong style=\"color:#cdcd00\">Incenptionv4-v2-wg</strong> at: <a href=\"https://wandb.ai/hda-project/jan12-run/runs/bhft6zdy\" target=\"_blank\">https://wandb.ai/hda-project/jan12-run/runs/bhft6zdy</a><br/>Synced 5 W&B file(s), 1 media file(s), 5 artifact file(s) and 1 other file(s)"
      ],
      "text/plain": [
       "<IPython.core.display.HTML object>"
      ]
     },
     "metadata": {},
     "output_type": "display_data"
    },
    {
     "data": {
      "text/html": [
       "Find logs at: <code>./wandb/run-20230125_080648-bhft6zdy/logs</code>"
      ],
      "text/plain": [
       "<IPython.core.display.HTML object>"
      ]
     },
     "metadata": {},
     "output_type": "display_data"
    },
    {
     "data": {
      "application/vnd.jupyter.widget-view+json": {
       "model_id": "60f24057a81d4dcc8be97e42d6f01322",
       "version_major": 2,
       "version_minor": 0
      },
      "text/plain": [
       "VBox(children=(Label(value='Waiting for wandb.init()...\\r'), FloatProgress(value=0.01666859628333744, max=1.0)…"
      ]
     },
     "metadata": {},
     "output_type": "display_data"
    },
    {
     "data": {
      "text/html": [
       "wandb version 0.13.9 is available!  To upgrade, please run:\n",
       " $ pip install wandb --upgrade"
      ],
      "text/plain": [
       "<IPython.core.display.HTML object>"
      ]
     },
     "metadata": {},
     "output_type": "display_data"
    },
    {
     "data": {
      "text/html": [
       "Tracking run with wandb version 0.13.8"
      ],
      "text/plain": [
       "<IPython.core.display.HTML object>"
      ]
     },
     "metadata": {},
     "output_type": "display_data"
    },
    {
     "data": {
      "text/html": [
       "Run data is saved locally in <code>/home/teemo/MEGA/bdma-semesters/3-semester/Human Data Analysis/project_Radiograph-Age-Prediction/src/wandb/run-20230125_081941-o0afayyj</code>"
      ],
      "text/plain": [
       "<IPython.core.display.HTML object>"
      ]
     },
     "metadata": {},
     "output_type": "display_data"
    },
    {
     "data": {
      "text/html": [
       "Syncing run <strong><a href=\"https://wandb.ai/hda-project/jan12-run/runs/o0afayyj\" target=\"_blank\">Incenptionv4-v2-wg</a></strong> to <a href=\"https://wandb.ai/hda-project/jan12-run\" target=\"_blank\">Weights & Biases</a> (<a href=\"https://wandb.me/run\" target=\"_blank\">docs</a>)<br/>"
      ],
      "text/plain": [
       "<IPython.core.display.HTML object>"
      ]
     },
     "metadata": {},
     "output_type": "display_data"
    },
    {
     "data": {
      "text/html": [
       " View project at <a href=\"https://wandb.ai/hda-project/jan12-run\" target=\"_blank\">https://wandb.ai/hda-project/jan12-run</a>"
      ],
      "text/plain": [
       "<IPython.core.display.HTML object>"
      ]
     },
     "metadata": {},
     "output_type": "display_data"
    },
    {
     "data": {
      "text/html": [
       " View run at <a href=\"https://wandb.ai/hda-project/jan12-run/runs/o0afayyj\" target=\"_blank\">https://wandb.ai/hda-project/jan12-run/runs/o0afayyj</a>"
      ],
      "text/plain": [
       "<IPython.core.display.HTML object>"
      ]
     },
     "metadata": {},
     "output_type": "display_data"
    },
    {
     "name": "stdout",
     "output_type": "stream",
     "text": [
      "Epoch 1/3\n",
      "8/8 [==============================] - 234s 27s/step - loss: 113.4524 - mae_in_months: 208.3066 - val_loss: nan - val_mae_in_months: nan - lr: 0.0261\n",
      "Epoch 2/3\n",
      "8/8 [==============================] - 197s 28s/step - loss: 2.3790 - mae_in_months: 50.3453 - val_loss: inf - val_mae_in_months: inf - lr: 0.0261\n",
      "Epoch 3/3\n",
      "8/8 [==============================] - 194s 27s/step - loss: 2.2072 - mae_in_months: 48.0884 - val_loss: inf - val_mae_in_months: 419133523850299772070103351296.0000 - lr: 0.0261\n"
     ]
    },
    {
     "data": {
      "text/html": [
       "Waiting for W&B process to finish... <strong style=\"color:green\">(success).</strong>"
      ],
      "text/plain": [
       "<IPython.core.display.HTML object>"
      ]
     },
     "metadata": {},
     "output_type": "display_data"
    },
    {
     "data": {
      "text/html": [
       "<style>\n",
       "    table.wandb td:nth-child(1) { padding: 0 10px; text-align: left ; width: auto;} td:nth-child(2) {text-align: left ; width: 100%}\n",
       "    .wandb-row { display: flex; flex-direction: row; flex-wrap: wrap; justify-content: flex-start; width: 100% }\n",
       "    .wandb-col { display: flex; flex-direction: column; flex-basis: 100%; flex: 1; padding: 10px; }\n",
       "    </style>\n",
       "<div class=\"wandb-row\"><div class=\"wandb-col\"><h3>Run history:</h3><br/><table class=\"wandb\"><tr><td>epoch</td><td>▁▅█</td></tr><tr><td>loss</td><td>█▁▁</td></tr><tr><td>lr</td><td>▁▁▁</td></tr><tr><td>mae_in_months</td><td>█▁▁</td></tr><tr><td>val_mae_in_months</td><td>  ▁</td></tr></table><br/></div><div class=\"wandb-col\"><h3>Run summary:</h3><br/><table class=\"wandb\"><tr><td>epoch</td><td>2</td></tr><tr><td>loss</td><td>2.20724</td></tr><tr><td>lr</td><td>0.02606</td></tr><tr><td>mae_in_months</td><td>48.08841</td></tr><tr><td>val_loss</td><td>inf</td></tr><tr><td>val_mae_in_months</td><td>4.191335238502998e+29</td></tr></table><br/></div></div>"
      ],
      "text/plain": [
       "<IPython.core.display.HTML object>"
      ]
     },
     "metadata": {},
     "output_type": "display_data"
    },
    {
     "data": {
      "text/html": [
       " View run <strong style=\"color:#cdcd00\">Incenptionv4-v2-wg</strong> at: <a href=\"https://wandb.ai/hda-project/jan12-run/runs/o0afayyj\" target=\"_blank\">https://wandb.ai/hda-project/jan12-run/runs/o0afayyj</a><br/>Synced 5 W&B file(s), 1 media file(s), 0 artifact file(s) and 0 other file(s)"
      ],
      "text/plain": [
       "<IPython.core.display.HTML object>"
      ]
     },
     "metadata": {},
     "output_type": "display_data"
    },
    {
     "data": {
      "text/html": [
       "Find logs at: <code>./wandb/run-20230125_081941-o0afayyj/logs</code>"
      ],
      "text/plain": [
       "<IPython.core.display.HTML object>"
      ]
     },
     "metadata": {},
     "output_type": "display_data"
    }
   ],
   "source": [
    "with_gender = True\n",
    "for i in range(2):\n",
    "    lr = random_learning_rate()\n",
    "    batch_size = np.random.choice([8, 16, 32, 64])\n",
    "    epoch = np.random.choice([3, 4, 5 ])\n",
    "\n",
    "    if not with_gender:\n",
    "        # Set Batch Size in the datasets\n",
    "        train_dataset = create_dataset_from_file(train_df[\"img_path\"], train_df[\"male\"].to_numpy().reshape(-1, 1), train_df[\"bone_age_z\"], use_gender=False, batch_size=batch_size)\n",
    "        valid_dataset = create_dataset_from_file(valid_df[\"img_path\"], valid_df[\"male\"].to_numpy().reshape(-1, 1), valid_df[\"bone_age_z\"], use_gender=False, batch_size=batch_size)\n",
    "        test_dataset = create_dataset_from_file(test_df[\"img_path\"], test_df[\"male\"].to_numpy().reshape(-1, 1), test_df[\"bone_age_z\"], use_gender=False, batch_size=batch_size)\n",
    "    else:\n",
    "        train_dataset_wg = create_dataset_from_file(train_df[\"img_path\"], train_df[\"male\"].to_numpy().reshape(-1, 1), train_df[\"bone_age_z\"], use_gender=True, batch_size=batch_size)\n",
    "        valid_dataset_wg = create_dataset_from_file(valid_df[\"img_path\"], valid_df[\"male\"].to_numpy().reshape(-1, 1), valid_df[\"bone_age_z\"], use_gender=True, batch_size=batch_size)\n",
    "        test_dataset_wg = create_dataset_from_file(test_df[\"img_path\"], test_df[\"male\"].to_numpy().reshape(-1, 1), test_df[\"bone_age_z\"], use_gender=True, batch_size=batch_size)\n",
    "\n",
    "    # Weights and Biases run initialization\n",
    "    run = wandb.init(project=\"jan12-run\", \n",
    "                    entity=\"hda-project\",  # Entity is my team name on wandb website\n",
    "                    name = \"Incenptionv4-v2-wg\",\n",
    "                    config = {\n",
    "                    \"MODEL_NAME\": \"Inceptionv4-Gender\",\n",
    "                    \"START_LR\": lr,\n",
    "                    \"BATCH_SIZE\": batch_size,\n",
    "                    \"GENDER\": with_gender\n",
    "                    })\n",
    "    # wandb.config[\"learning_rate\"] = lr\n",
    "    # wandb.config[\"epochs\"] = epoch\n",
    "    callbacks = [red_lr_plat, WandbCallback()]\n",
    "\n",
    "    input_img = tf.keras.Input(shape=(img_size, img_size, 3), name=\"image\")\n",
    "    input_gender = tf.keras.Input(shape=(1), name=\"gender\")\n",
    "\n",
    "    optimizer = tf.keras.optimizers.Adam( lr )\n",
    "\n",
    "    if not with_gender:\n",
    "        model = Inception((img_size, img_size, 3))()\n",
    "\n",
    "        #compile model\n",
    "        model.compile(loss = 'mse', optimizer = optimizer , metrics = [mae_in_months])\n",
    "\n",
    "        # Train the model\n",
    "        model.fit(train_dataset,  epochs = epoch, callbacks=callbacks, validation_data=valid_dataset)\n",
    "\n",
    "    else:\n",
    "        model = Inception((img_size, img_size, 3), input_gender=input_gender)()\n",
    "\n",
    "        #compile model\n",
    "        model.compile(loss = 'mse', optimizer = optimizer , metrics = [mae_in_months])\n",
    "\n",
    "        # Train the model\n",
    "        model.fit(train_dataset_wg,  epochs = epoch, callbacks=callbacks, validation_data=valid_dataset_wg)\n",
    "\n",
    "\n",
    "    # Tell W&B that a model run is complete\n",
    "    run.finish() "
   ]
  },
  {
   "cell_type": "markdown",
   "metadata": {},
   "source": [
    "## Old Code"
   ]
  },
  {
   "cell_type": "code",
   "execution_count": null,
   "metadata": {},
   "outputs": [],
   "source": [
    "input_img = tf.keras.Input(shape=(img_size, img_size, 3), name=\"Image\")\n",
    "\n",
    "input_gender = tf.keras.Input(shape=(1), name=\"Gender\")\n",
    "\n",
    "model = SmallCNN( input_img=input_img, input_gender=input_gender )()\n",
    "\n",
    "optimizer = tf.keras.optimizers.Adam( 0.1 )\n",
    "\n",
    "#compile model\n",
    "model.compile(loss = 'mse', optimizer = optimizer , metrics = [mae_in_months])\n",
    "\n",
    "# Train the model\n",
    "model.fit(train_dataset_wg,  epochs = 10, callbacks=callbacks, validation_data=valid_dataset_wg)\n",
    "\n",
    "# Tell W&B that a model run is complete\n",
    "run.join() \n",
    "\n",
    "# Save the Model\n",
    "# model.save(os.path.join(\"..\", \"nn_models\", \"model.h5\"))"
   ]
  },
  {
   "cell_type": "code",
   "execution_count": null,
   "metadata": {},
   "outputs": [],
   "source": []
  }
 ],
 "metadata": {
  "kernelspec": {
   "display_name": "ds",
   "language": "python",
   "name": "python3"
  },
  "language_info": {
   "codemirror_mode": {
    "name": "ipython",
    "version": 3
   },
   "file_extension": ".py",
   "mimetype": "text/x-python",
   "name": "python",
   "nbconvert_exporter": "python",
   "pygments_lexer": "ipython3",
   "version": "3.10.8"
  },
  "orig_nbformat": 4,
  "vscode": {
   "interpreter": {
    "hash": "52b1f784f325f4bb3a356377882172db56d88cae8011bd8e1b2f0031ba4ed221"
   }
  }
 },
 "nbformat": 4,
 "nbformat_minor": 2
}
